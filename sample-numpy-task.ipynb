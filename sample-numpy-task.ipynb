{
 "cells": [
  {
   "cell_type": "code",
   "id": "initial_id",
   "metadata": {
    "collapsed": true,
    "ExecuteTime": {
     "end_time": "2025-03-05T04:34:06.577233Z",
     "start_time": "2025-03-05T04:34:06.564103Z"
    }
   },
   "source": [
    "# The standard way to import NumPy:\n",
    "import numpy as np\n",
    "x = np.array([2, 1, 5, 3, 7, 4, 6, 8])\n",
    "y = np.random.rand(5)*10\n",
    "sample = np.concatenate((x, y))\n",
    "sample.round(decimals=0)\n",
    "sample.sort()\n",
    "sample"
   ],
   "outputs": [
    {
     "data": {
      "text/plain": [
       "array([1.        , 2.        , 3.        , 4.        , 4.76674832,\n",
       "       5.        , 6.        , 7.        , 7.26704919, 7.67852423,\n",
       "       8.        , 8.4505403 , 8.81032427])"
      ]
     },
     "execution_count": 12,
     "metadata": {},
     "output_type": "execute_result"
    }
   ],
   "execution_count": 12
  }
 ],
 "metadata": {
  "kernelspec": {
   "display_name": "Python 3",
   "language": "python",
   "name": "python3"
  },
  "language_info": {
   "codemirror_mode": {
    "name": "ipython",
    "version": 2
   },
   "file_extension": ".py",
   "mimetype": "text/x-python",
   "name": "python",
   "nbconvert_exporter": "python",
   "pygments_lexer": "ipython2",
   "version": "2.7.6"
  }
 },
 "nbformat": 4,
 "nbformat_minor": 5
}
