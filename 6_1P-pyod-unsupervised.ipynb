{
 "cells": [
  {
   "metadata": {},
   "cell_type": "markdown",
   "source": [
    "## Learning about PYOD Library\n",
    "Our first task would be to install the latest library in our local environment"
   ],
   "id": "70f4a50d70541243"
  },
  {
   "cell_type": "code",
   "id": "initial_id",
   "metadata": {
    "collapsed": true
   },
   "source": [
    "! pip install pyod\n",
    "! pip install --upgrade pyod"
   ],
   "outputs": [],
   "execution_count": null
  },
  {
   "metadata": {},
   "cell_type": "markdown",
   "source": [
    "#1: Importing necessary libraries and functions from PyOD\n",
    "In our case we want to use K-NN here is what its document says:\n",
    "```text\n",
    "    kNN class for outlier detection.\n",
    "    For an observation, its distance to its kth nearest neighbor could be\n",
    "    viewed as the outlying score. It could be viewed as a way to measure\n",
    "    the density. See :cite:`ramaswamy2000efficient,angiulli2002fast` for\n",
    "    details.\n",
    "\n",
    "    Three kNN detectors are supported:\n",
    "    largest: use the distance to the kth neighbor as the outlier score\n",
    "    mean: use the average of all k neighbors as the outlier score\n",
    "    median: use the median of the distance to k neighbors as the outlier score\n",
    "```\n",
    "If we want to add other methods then we can import them in the same state as stated below:"
   ],
   "id": "9d66c5f9efc728ed"
  },
  {
   "metadata": {
    "ExecuteTime": {
     "end_time": "2025-04-05T13:51:04.717783Z",
     "start_time": "2025-04-05T13:50:45.984879Z"
    }
   },
   "cell_type": "code",
   "source": [
    "from pyod.models.knn import KNN\n",
    "# from pyod.models.iforest import IForest # Example 1: Isolation Forest (IForest)\n",
    "# from pyod.models.lof import LOF # Example 2: Local Outlier Factor (LOF)\n",
    "# from pyod.models.auto_encoder import AutoEncoder # Example 3: AutoEncoder (deep learning-based)"
   ],
   "id": "f2fe374b39f4a4fa",
   "outputs": [],
   "execution_count": 3
  },
  {
   "metadata": {},
   "cell_type": "markdown",
   "source": [
    "#2 This is a utility function which is used to generate artificial data to test our clustering model.\n",
    "It uses  `multivariate Gaussian distribution` to create normal data and adds outliers using `uniform distribution`\n",
    "\n",
    "Default Signature:\n",
    "```python\n",
    "def generate_data(n_train=1000, n_test=500, n_features=2, contamination=0.1,\n",
    "    train_only=False, offset=10, behaviour='new', random_state=None, n_nan=0, n_inf=0):\n",
    "    pass\n",
    "```"
   ],
   "id": "50e9d44a6d8d09fe"
  },
  {
   "metadata": {
    "ExecuteTime": {
     "end_time": "2025-04-05T13:52:18.762553Z",
     "start_time": "2025-04-05T13:52:18.752849Z"
    }
   },
   "cell_type": "code",
   "source": "from pyod.utils.data import generate_data",
   "id": "92b64e4f9d9c7c04",
   "outputs": [],
   "execution_count": 4
  },
  {
   "metadata": {},
   "cell_type": "markdown",
   "source": [
    "#3: This is a utility function which is used to visualize our clustering result.\n",
    "```python\n",
    "def visualize(clf_name, X_train, y_train, X_test, y_test, y_train_pred,\n",
    "              y_test_pred, show_figure=True,\n",
    "              save_figure=False):  # pragma: no cover\n",
    "    \"\"\"Utility function for visualizing the results in examples.\n",
    "    Internal use only.\"\"\"\n",
    "```"
   ],
   "id": "b676d9ee302cc6cf"
  },
  {
   "metadata": {
    "ExecuteTime": {
     "end_time": "2025-04-05T14:02:09.539558Z",
     "start_time": "2025-04-05T14:02:07.746041Z"
    }
   },
   "cell_type": "code",
   "source": "from pyod.utils.example import visualize",
   "id": "70c4cb47ae39278b",
   "outputs": [],
   "execution_count": 5
  },
  {
   "metadata": {},
   "cell_type": "markdown",
   "source": [
    "#4, #5, #6: Based on the previous defination of generate_data, these parameters represent\n",
    "```text\n",
    "    n_train : int, (default=1000)\n",
    "        The number of training points to generate.\n",
    "\n",
    "    n_test : int, (default=500)\n",
    "        The number of test points to generate.\n",
    "\n",
    "    n_features : int, optional (default=2)\n",
    "        The number of features (dimensions).\n",
    "\n",
    "    contamination : float in (0., 0.5), optional (default=0.1)\n",
    "        The amount of contamination of the data set, i.e.\n",
    "        the proportion of outliers in the data set. Used when fitting to\n",
    "        define the threshold on the decision function.\n",
    "```"
   ],
   "id": "69a3761637bddf2"
  },
  {
   "metadata": {
    "ExecuteTime": {
     "end_time": "2025-04-05T14:13:18.632380Z",
     "start_time": "2025-04-05T14:13:18.626239Z"
    }
   },
   "cell_type": "code",
   "source": [
    "contamination = 0.1\n",
    "n_train = 200\n",
    "n_test = 100"
   ],
   "id": "833549b38c3021e8",
   "outputs": [],
   "execution_count": 8
  },
  {
   "metadata": {},
   "cell_type": "markdown",
   "source": [
    "#7: Generate Data as stated before, returns the following data points:\n",
    "```text\n",
    "    Returns\n",
    "    -------\n",
    "    X_train : numpy array of shape (n_train, n_features)\n",
    "        Training data.\n",
    "\n",
    "    X_test : numpy array of shape (n_test, n_features)\n",
    "        Test data.\n",
    "\n",
    "    y_train : numpy array of shape (n_train,)\n",
    "        Training ground truth.\n",
    "\n",
    "    y_test : numpy array of shape (n_test,)\n",
    "        Test ground truth.\n",
    "```\n",
    "Moreover, we notice that the n_feature is set to 2 and random_state is set to 42.\n",
    "Here are the definition of those parameters from the documentation.\n",
    "```text\n",
    "    n_features : int, optional (default=2)\n",
    "        The number of features (dimensions).\n",
    "\n",
    "    random_state : int, RandomState instance or None, optional (default=None)\n",
    "        If int, random_state is the seed used by the random number generator;\n",
    "        If RandomState instance, random_state is the random number generator;\n",
    "        If None, the random number generator is the RandomState instance used\n",
    "        by `np.random`.\n",
    "```\n",
    "If you are wondering why `random_state=42` then its most probably a reference to `Hitchhiker's Guide to Galaxy`"
   ],
   "id": "e8dc3797b841ceb7"
  },
  {
   "metadata": {
    "ExecuteTime": {
     "end_time": "2025-04-05T14:28:05.034422Z",
     "start_time": "2025-04-05T14:28:05.026758Z"
    }
   },
   "cell_type": "code",
   "source": [
    "X_train, X_test, y_train, y_test = generate_data(n_train=n_train, n_test=n_test, n_features=2,\n",
    "                                                 contamination=contamination, random_state=42)"
   ],
   "id": "aff0c72ed5e4332f",
   "outputs": [],
   "execution_count": 10
  },
  {
   "metadata": {},
   "cell_type": "markdown",
   "source": [
    "#8: We just create a variable to store the name of classifier, and start training our data using KNN.\n",
    "    Nothing much to see here.\n",
    "\n",
    "here are 3 other methods:\n",
    "```python\n",
    "# IForest:\n",
    "visualize('IForest', X_train, y_train, X_test, y_test, y_train_pred, y_test_pred, show_figure=True, save_figure=True)\n",
    "# LOF:\n",
    "visualize('LOF', X_train, y_train, X_test, y_test, y_train_pred, y_test_pred, show_figure=True, save_figure=True)\n",
    "# AutoEncoder:\n",
    "visualize('AutoEncoder', X_train, y_train, X_test, y_test, y_train_pred, y_test_pred, show_figure=True, save_figure=True)\n",
    "```\n",
    "The plot will adjust to show how each method identifies outliers differently."
   ],
   "id": "e2e652d075181976"
  },
  {
   "metadata": {
    "ExecuteTime": {
     "end_time": "2025-04-05T14:41:02.427198Z",
     "start_time": "2025-04-05T14:41:02.412061Z"
    }
   },
   "cell_type": "code",
   "source": [
    "clf_name = 'KNN'\n",
    "clf = KNN()\n",
    "clf.fit(X_train)"
   ],
   "id": "febaf710ca623d78",
   "outputs": [
    {
     "data": {
      "text/plain": [
       "KNN(algorithm='auto', contamination=0.1, leaf_size=30, method='largest',\n",
       "  metric='minkowski', metric_params=None, n_jobs=1, n_neighbors=5, p=2,\n",
       "  radius=1.0)"
      ]
     },
     "execution_count": 16,
     "metadata": {},
     "output_type": "execute_result"
    }
   ],
   "execution_count": 16
  },
  {
   "metadata": {},
   "cell_type": "markdown",
   "source": [
    "#9: Fixing mistakes from the original code:\n",
    "\n",
    "The original code had `y_train_pred = labels_` and `y_train_scores = decision_scores_`, which are not declared.\n",
    "\n",
    "These values are generated by using our model (stored in `clf` variable) to generate predictions & scores, as shown above."
   ],
   "id": "14577727c2f838b4"
  },
  {
   "metadata": {
    "ExecuteTime": {
     "end_time": "2025-04-05T14:29:54.514305Z",
     "start_time": "2025-04-05T14:29:54.417215Z"
    }
   },
   "cell_type": "code",
   "source": [
    "# INCORRECT CODE\n",
    "# --------------------------------------------------------------------\n",
    "\n",
    "## get the prediction labels and outlier scores of the training data\n",
    "# y_train_pred = labels_ # binary labels (0: inliers, 1: outliers)\n",
    "# y_train_scores = decision_scores_ # raw outlier scores\n",
    "## get the prediction on the test data\n",
    "# y_train_pred = clf.predict(X_train) # outlier labels (0 or 1)\n",
    "# y_test_scores = clf.decision_function(X_test) # outlier score\n",
    "\n",
    "# FIXED CODE\n",
    "# --------------------------------------------------------------------\n",
    "y_train_pred = clf.predict(X_train)\n",
    "y_train_scores = clf.decision_function(X_train)\n",
    "y_test_pred = clf.predict(X_test)\n",
    "y_test_scores = clf.decision_function(X_test)\n"
   ],
   "id": "a37d568bcc41b1b0",
   "outputs": [],
   "execution_count": 13
  },
  {
   "metadata": {},
   "cell_type": "markdown",
   "source": [
    "#10: One thing wrong in this code was that the import for `evaluate_print()` was missing,\n",
    "\n",
    "\n",
    "Displays performance metrics (like precision or accuracy) comparing true training/testing labels (y_train) to predicted training/testing scores (y_train_scores).\n",
    "evaluate_print(clf_name, y_train, y_train_scores) respectively!"
   ],
   "id": "8b99278fc2e86bfb"
  },
  {
   "metadata": {
    "ExecuteTime": {
     "end_time": "2025-04-05T14:44:47.699679Z",
     "start_time": "2025-04-05T14:44:47.672575Z"
    }
   },
   "cell_type": "code",
   "source": [
    "from pyod.utils import evaluate_print\n",
    "\n",
    "print(\"\\nOn Training Data:\")\n",
    "evaluate_print(clf_name, y_train, y_train_scores)\n",
    "print(\"\\nOn Test Data:\")\n",
    "evaluate_print(clf_name, y_test, y_test_scores)"
   ],
   "id": "e26cddb980c8c399",
   "outputs": [
    {
     "name": "stdout",
     "output_type": "stream",
     "text": [
      "\n",
      "On Training Data:\n",
      "KNN ROC:0.9994, precision @ rank n:0.95\n",
      "\n",
      "On Test Data:\n",
      "KNN ROC:1.0, precision @ rank n:1.0\n"
     ]
    }
   ],
   "execution_count": 17
  },
  {
   "metadata": {},
   "cell_type": "markdown",
   "source": [
    "\n",
    "\n",
    "#11: I have already explained other parameters in the section before, and Feature (X) & their ground truth(y). heare are the two new items that we did not know:\n",
    "\n",
    "``` text\n",
    "    show_figure : bool, optional (default=True)\n",
    "        If set to True, show the figure.\n",
    "\n",
    "    save_figure : bool, optional (default=False)\n",
    "        If set to True, save the figure to the local.\n",
    "```"
   ],
   "id": "202e2b4d1d5e1141"
  },
  {
   "metadata": {
    "ExecuteTime": {
     "end_time": "2025-04-05T14:44:51.981747Z",
     "start_time": "2025-04-05T14:44:50.304486Z"
    }
   },
   "cell_type": "code",
   "source": "visualize(clf_name, X_train, y_train, X_test, y_test, y_train_pred, y_test_pred, show_figure=True, save_figure=True)",
   "id": "451a587e2fbd8c1a",
   "outputs": [
    {
     "data": {
      "text/plain": [
       "<Figure size 1200x1000 with 4 Axes>"
      ],
      "image/png": "[encoded data removed]"
     },
     "metadata": {},
     "output_type": "display_data"
    }
   ],
   "execution_count": 18
  }
 ],
 "metadata": {
  "kernelspec": {
   "display_name": "Python 3",
   "language": "python",
   "name": "python3"
  },
  "language_info": {
   "codemirror_mode": {
    "name": "ipython",
    "version": 2
   },
   "file_extension": ".py",
   "mimetype": "text/x-python",
   "name": "python",
   "nbconvert_exporter": "python",
   "pygments_lexer": "ipython2",
   "version": "2.7.6"
  }
 },
 "nbformat": 4,
 "nbformat_minor": 5
}
