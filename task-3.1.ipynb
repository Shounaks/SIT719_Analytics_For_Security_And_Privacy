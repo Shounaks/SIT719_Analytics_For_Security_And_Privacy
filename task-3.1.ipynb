{
 "cells": [
  {
   "metadata": {},
   "cell_type": "markdown",
   "source": [
    "### Task 3.1 - Scikit-Learn for Machine Learning\n",
    "#### Author: Shounak Bhalerao"
   ],
   "id": "6720c393889af966"
  },
  {
   "metadata": {
    "ExecuteTime": {
     "end_time": "2025-03-05T03:38:55.936507Z",
     "start_time": "2025-03-05T03:38:55.919936Z"
    }
   },
   "cell_type": "code",
   "source": "print(\"Work in Progress\")",
   "id": "c933f47463358053",
   "outputs": [
    {
     "name": "stdout",
     "output_type": "stream",
     "text": [
      "Work in Progress\n"
     ]
    }
   ],
   "execution_count": 1
  }
 ],
 "metadata": {
  "kernelspec": {
   "display_name": "Python 3",
   "language": "python",
   "name": "python3"
  },
  "language_info": {
   "codemirror_mode": {
    "name": "ipython",
    "version": 2
   },
   "file_extension": ".py",
   "mimetype": "text/x-python",
   "name": "python",
   "nbconvert_exporter": "python",
   "pygments_lexer": "ipython2",
   "version": "2.7.6"
  }
 },
 "nbformat": 4,
 "nbformat_minor": 5
}
