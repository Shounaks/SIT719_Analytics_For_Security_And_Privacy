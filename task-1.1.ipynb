{
 "cells": [
  {
   "metadata": {},
   "cell_type": "markdown",
   "source": [
    "# SIT719 Analytics for Security & Privacy\n",
    "Pass Task 1.1: Understanding the Unit\n",
    "\n",
    "### Overview\n",
    "This unit will provide you with a unique learning experience that ties in two concurrent cyber-security disciplines, namely, data science and cyber-security. With the dramatic development of the Internet, Information Technology, and mobile devices, we are witnessing a great age of information. At the same time, security and privacy in cyberspace have become a critical problem for everyone, every company, and every nation.\n",
    "\n",
    "This unit provides you with learning experiences that explore the potential privacy and security of information and how analytics can be utilized to solve some of these challenges. Finally, you will study the ethical implications of dealing with large datasets and privacy associated analytics. All these topics will be explored through scaffolded programming assignments. Weekly assessment tasks will be submitted via OnTrack system. At the end of the unit, students will have a solid grounding in how modern analytics work and how they can be applied to network defence. This is a Pass task, so you MUST complete the task and submit the evidence of your work to Ontrack.\n",
    "\n",
    "---\n",
    "\n",
    "### Instruction:\n",
    "This week task is simple where you start preparing yourself for the whole trimester. Please read the below comments and once you are ok with everything mentioned in this document, submit the PDF using OnTrack. A word version is added in the resource file in OnTrack."
   ],
   "id": "8a77807f92f26ee"
  },
  {
   "metadata": {},
   "cell_type": "markdown",
   "source": [
    "#### Q1. What are the Unit Learning Outcomes (ULOs)? Hint: you may find at the first-week class slides or look at the unit guide.\n",
    "\n",
    "This unit has 5 Unit Learning Outcomes (ULOs) as referenced here: [1.2 Unit Learning Outcomes](https://d2l.deakin.edu.au/d2l/le/content/1527776/viewContent/7727306/View)\n",
    "\n",
    "1. UL01 Scripting skills as they relate to large datasets that are encountered in cybersecurity, and the use of popular toolkits used to build analytics.\n",
    "2. UL02 Recognise and apply the relevant ethical, regulatory and governance constraints on organisations and professionals when dealing with data and analytics.\n",
    "3. UL03 Understanding the basics of supervised and unsupervised machine learning algorithms, including their basic mathematical underpinnings, and how they can be implemented using popular libraries.\n",
    "4. UL04 Understand how analytics can be used to protect computer networks as well as what types of network defence data might be useful for building analytics. Explore what types of attacks have been successful mitigated by the current state of the art and where work still needs to be done.\n",
    "5. UL05 Understand the technical threats to privacy that may result from the use of analytics in cyber security.\n",
    "\n",
    "Following the ULO's their corresponding GLOS are as follows:\n",
    "\n",
    "![ulo-glo](assets/ulo-glo.png)\n"
   ],
   "id": "d9953cda079b576c"
  },
  {
   "metadata": {},
   "cell_type": "markdown",
   "source": [
    "#### Q2. Have you received the Github link?\n",
    "\n",
    "Answer: YES\n"
   ],
   "id": "85dade412506ba3b"
  }
 ],
 "metadata": {
  "kernelspec": {
   "display_name": "Python 3",
   "language": "python",
   "name": "python3"
  },
  "language_info": {
   "codemirror_mode": {
    "name": "ipython",
    "version": 2
   },
   "file_extension": ".py",
   "mimetype": "text/x-python",
   "name": "python",
   "nbconvert_exporter": "python",
   "pygments_lexer": "ipython2",
   "version": "2.7.6"
  }
 },
 "nbformat": 4,
 "nbformat_minor": 5
}
