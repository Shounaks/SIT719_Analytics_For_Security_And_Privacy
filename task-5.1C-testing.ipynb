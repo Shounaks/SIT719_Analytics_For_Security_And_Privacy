{
 "cells": [
  {
   "metadata": {},
   "cell_type": "markdown",
   "source": [
    "# SIT719 Security and Privacy Issues in Analytics\n",
    "## CREDIT Task 5.1 C Analysing Cyber Security Attack Dataset\n",
    "---\n",
    "__Overview__\n",
    "In this Credit Task, you will analyse a Cyber Security Attack Dataset.\n",
    "\n",
    "Dataset Reference: https://github.com/incribo-inc/cybersecurity_attacks\n",
    "\n",
    "Conduct the following analysis using Python scripting. Import any necessary libraries.\n"
   ],
   "id": "8f27d1d6546e53ce"
  },
  {
   "metadata": {},
   "cell_type": "markdown",
   "source": [
    "\n",
    "Step #1: Conduct the following analysis using Python scripting. Import any necessary libraries"
   ],
   "id": "ad5108c64a548a68"
  },
  {
   "metadata": {
    "ExecuteTime": {
     "end_time": "2025-03-22T08:10:06.925099Z",
     "start_time": "2025-03-22T08:10:06.254602Z"
    }
   },
   "cell_type": "code",
   "source": [
    "import pandas as pd\n",
    "from pandas import DataFrame\n",
    "\n",
    "df: DataFrame = pd.read_csv(\"data/cybersecurity_attacks.csv\")\n",
    "df.head()"
   ],
   "id": "fa5ece7d2c09aa65",
   "outputs": [
    {
     "data": {
      "text/plain": [
       "             Timestamp Source IP Address Destination IP Address  Source Port  \\\n",
       "0  2023-05-30 06:33:58     103.216.15.12           84.9.164.252        31225   \n",
       "1  2020-08-26 07:08:30    78.199.217.198         66.191.137.154        17245   \n",
       "2  2022-11-13 08:23:25      63.79.210.48          198.219.82.17        16811   \n",
       "3  2023-07-02 10:38:46     163.42.196.10        101.228.192.255        20018   \n",
       "4  2023-07-16 13:11:07     71.166.185.76        189.243.174.238         6131   \n",
       "\n",
       "   Destination Port Protocol  Packet Length Packet Type Traffic Type  \\\n",
       "0             17616     ICMP            503        Data         HTTP   \n",
       "1             48166     ICMP           1174        Data         HTTP   \n",
       "2             53600      UDP            306     Control         HTTP   \n",
       "3             32534      UDP            385        Data         HTTP   \n",
       "4             26646      TCP           1462        Data          DNS   \n",
       "\n",
       "                                                                                                                                                                                            Payload Data  \\\n",
       "0                                 Qui natus odio asperiores nam. Optio nobis iusto accusamus ad perferendis esse at. Asperiores neque at ad.\\nMaiores possimus ipsum saepe vitae. Ad possimus veritatis.   \n",
       "1  Aperiam quos modi officiis veritatis rem. Omnis nulla dolore perspiciatis.\\nIllo animi mollitia vero voluptates error ad. Quidem maxime eaque optio a. Consectetur quasi veniam et totam culpa ullam.   \n",
       "2                                                                                                                           Perferendis sapiente vitae soluta. Hic delectus quae nemo ea esse est rerum.   \n",
       "3      Totam maxime beatae expedita explicabo porro labore. Minima ab fugit officiis dicta perspiciatis pariatur. Facilis voluptates eligendi dolores eveniet deserunt. Eveniet reprehenderit culpa quo.   \n",
       "4             Odit nesciunt dolorem nisi iste iusto. Animi voluptates soluta quis doloribus quas. Iure harum nihil hic illo repellendus.\\nQuia illo fugit eligendi doloremque. In doloremque autem iure.   \n",
       "\n",
       "   ... Action Taken  Severity Level User Information  \\\n",
       "0  ...       Logged             Low    Reyansh Dugal   \n",
       "1  ...      Blocked             Low       Sumer Rana   \n",
       "2  ...      Ignored             Low     Himmat Karpe   \n",
       "3  ...      Blocked          Medium       Fateh Kibe   \n",
       "4  ...      Blocked             Low     Dhanush Chad   \n",
       "\n",
       "                                                                                  Device Information  \\\n",
       "0                                    Mozilla/5.0 (compatible; MSIE 8.0; Windows NT 6.2; Trident/5.0)   \n",
       "1                                    Mozilla/5.0 (compatible; MSIE 8.0; Windows NT 6.0; Trident/4.0)   \n",
       "2                                    Mozilla/5.0 (compatible; MSIE 9.0; Windows NT 6.2; Trident/5.0)   \n",
       "3  Mozilla/5.0 (Macintosh; PPC Mac OS X 10_11_5; rv:1.9.6.20) Gecko/2583-02-14 13:30:10 Firefox/11.0   \n",
       "4                                    Mozilla/5.0 (compatible; MSIE 5.0; Windows NT 6.2; Trident/3.0)   \n",
       "\n",
       "  Network Segment   Geo-location Data Proxy Information Firewall Logs  \\\n",
       "0       Segment A  Jamshedpur, Sikkim      150.9.97.135      Log Data   \n",
       "1       Segment B  Bilaspur, Nagaland               NaN      Log Data   \n",
       "2       Segment C   Bokaro, Rajasthan    114.133.48.179      Log Data   \n",
       "3       Segment B  Jaunpur, Rajasthan               NaN           NaN   \n",
       "4       Segment C  Anantapur, Tripura     149.6.110.119           NaN   \n",
       "\n",
       "  IDS/IPS Alerts Log Source  \n",
       "0            NaN     Server  \n",
       "1            NaN   Firewall  \n",
       "2     Alert Data   Firewall  \n",
       "3     Alert Data   Firewall  \n",
       "4     Alert Data   Firewall  \n",
       "\n",
       "[5 rows x 25 columns]"
      ],
      "text/html": [
       "<div>\n",
       "<style scoped>\n",
       "    .dataframe tbody tr th:only-of-type {\n",
       "        vertical-align: middle;\n",
       "    }\n",
       "\n",
       "    .dataframe tbody tr th {\n",
       "        vertical-align: top;\n",
       "    }\n",
       "\n",
       "    .dataframe thead th {\n",
       "        text-align: right;\n",
       "    }\n",
       "</style>\n",
       "<table border=\"1\" class=\"dataframe\">\n",
       "  <thead>\n",
       "    <tr style=\"text-align: right;\">\n",
       "      <th></th>\n",
       "      <th>Timestamp</th>\n",
       "      <th>Source IP Address</th>\n",
       "      <th>Destination IP Address</th>\n",
       "      <th>Source Port</th>\n",
       "      <th>Destination Port</th>\n",
       "      <th>Protocol</th>\n",
       "      <th>Packet Length</th>\n",
       "      <th>Packet Type</th>\n",
       "      <th>Traffic Type</th>\n",
       "      <th>Payload Data</th>\n",
       "      <th>...</th>\n",
       "      <th>Action Taken</th>\n",
       "      <th>Severity Level</th>\n",
       "      <th>User Information</th>\n",
       "      <th>Device Information</th>\n",
       "      <th>Network Segment</th>\n",
       "      <th>Geo-location Data</th>\n",
       "      <th>Proxy Information</th>\n",
       "      <th>Firewall Logs</th>\n",
       "      <th>IDS/IPS Alerts</th>\n",
       "      <th>Log Source</th>\n",
       "    </tr>\n",
       "  </thead>\n",
       "  <tbody>\n",
       "    <tr>\n",
       "      <th>0</th>\n",
       "      <td>2023-05-30 06:33:58</td>\n",
       "      <td>103.216.15.12</td>\n",
       "      <td>84.9.164.252</td>\n",
       "      <td>31225</td>\n",
       "      <td>17616</td>\n",
       "      <td>ICMP</td>\n",
       "      <td>503</td>\n",
       "      <td>Data</td>\n",
       "      <td>HTTP</td>\n",
       "      <td>Qui natus odio asperiores nam. Optio nobis iusto accusamus ad perferendis esse at. Asperiores neque at ad.\\nMaiores possimus ipsum saepe vitae. Ad possimus veritatis.</td>\n",
       "      <td>...</td>\n",
       "      <td>Logged</td>\n",
       "      <td>Low</td>\n",
       "      <td>Reyansh Dugal</td>\n",
       "      <td>Mozilla/5.0 (compatible; MSIE 8.0; Windows NT 6.2; Trident/5.0)</td>\n",
       "      <td>Segment A</td>\n",
       "      <td>Jamshedpur, Sikkim</td>\n",
       "      <td>150.9.97.135</td>\n",
       "      <td>Log Data</td>\n",
       "      <td>NaN</td>\n",
       "      <td>Server</td>\n",
       "    </tr>\n",
       "    <tr>\n",
       "      <th>1</th>\n",
       "      <td>2020-08-26 07:08:30</td>\n",
       "      <td>78.199.217.198</td>\n",
       "      <td>66.191.137.154</td>\n",
       "      <td>17245</td>\n",
       "      <td>48166</td>\n",
       "      <td>ICMP</td>\n",
       "      <td>1174</td>\n",
       "      <td>Data</td>\n",
       "      <td>HTTP</td>\n",
       "      <td>Aperiam quos modi officiis veritatis rem. Omnis nulla dolore perspiciatis.\\nIllo animi mollitia vero voluptates error ad. Quidem maxime eaque optio a. Consectetur quasi veniam et totam culpa ullam.</td>\n",
       "      <td>...</td>\n",
       "      <td>Blocked</td>\n",
       "      <td>Low</td>\n",
       "      <td>Sumer Rana</td>\n",
       "      <td>Mozilla/5.0 (compatible; MSIE 8.0; Windows NT 6.0; Trident/4.0)</td>\n",
       "      <td>Segment B</td>\n",
       "      <td>Bilaspur, Nagaland</td>\n",
       "      <td>NaN</td>\n",
       "      <td>Log Data</td>\n",
       "      <td>NaN</td>\n",
       "      <td>Firewall</td>\n",
       "    </tr>\n",
       "    <tr>\n",
       "      <th>2</th>\n",
       "      <td>2022-11-13 08:23:25</td>\n",
       "      <td>63.79.210.48</td>\n",
       "      <td>198.219.82.17</td>\n",
       "      <td>16811</td>\n",
       "      <td>53600</td>\n",
       "      <td>UDP</td>\n",
       "      <td>306</td>\n",
       "      <td>Control</td>\n",
       "      <td>HTTP</td>\n",
       "      <td>Perferendis sapiente vitae soluta. Hic delectus quae nemo ea esse est rerum.</td>\n",
       "      <td>...</td>\n",
       "      <td>Ignored</td>\n",
       "      <td>Low</td>\n",
       "      <td>Himmat Karpe</td>\n",
       "      <td>Mozilla/5.0 (compatible; MSIE 9.0; Windows NT 6.2; Trident/5.0)</td>\n",
       "      <td>Segment C</td>\n",
       "      <td>Bokaro, Rajasthan</td>\n",
       "      <td>114.133.48.179</td>\n",
       "      <td>Log Data</td>\n",
       "      <td>Alert Data</td>\n",
       "      <td>Firewall</td>\n",
       "    </tr>\n",
       "    <tr>\n",
       "      <th>3</th>\n",
       "      <td>2023-07-02 10:38:46</td>\n",
       "      <td>163.42.196.10</td>\n",
       "      <td>101.228.192.255</td>\n",
       "      <td>20018</td>\n",
       "      <td>32534</td>\n",
       "      <td>UDP</td>\n",
       "      <td>385</td>\n",
       "      <td>Data</td>\n",
       "      <td>HTTP</td>\n",
       "      <td>Totam maxime beatae expedita explicabo porro labore. Minima ab fugit officiis dicta perspiciatis pariatur. Facilis voluptates eligendi dolores eveniet deserunt. Eveniet reprehenderit culpa quo.</td>\n",
       "      <td>...</td>\n",
       "      <td>Blocked</td>\n",
       "      <td>Medium</td>\n",
       "      <td>Fateh Kibe</td>\n",
       "      <td>Mozilla/5.0 (Macintosh; PPC Mac OS X 10_11_5; rv:1.9.6.20) Gecko/2583-02-14 13:30:10 Firefox/11.0</td>\n",
       "      <td>Segment B</td>\n",
       "      <td>Jaunpur, Rajasthan</td>\n",
       "      <td>NaN</td>\n",
       "      <td>NaN</td>\n",
       "      <td>Alert Data</td>\n",
       "      <td>Firewall</td>\n",
       "    </tr>\n",
       "    <tr>\n",
       "      <th>4</th>\n",
       "      <td>2023-07-16 13:11:07</td>\n",
       "      <td>71.166.185.76</td>\n",
       "      <td>189.243.174.238</td>\n",
       "      <td>6131</td>\n",
       "      <td>26646</td>\n",
       "      <td>TCP</td>\n",
       "      <td>1462</td>\n",
       "      <td>Data</td>\n",
       "      <td>DNS</td>\n",
       "      <td>Odit nesciunt dolorem nisi iste iusto. Animi voluptates soluta quis doloribus quas. Iure harum nihil hic illo repellendus.\\nQuia illo fugit eligendi doloremque. In doloremque autem iure.</td>\n",
       "      <td>...</td>\n",
       "      <td>Blocked</td>\n",
       "      <td>Low</td>\n",
       "      <td>Dhanush Chad</td>\n",
       "      <td>Mozilla/5.0 (compatible; MSIE 5.0; Windows NT 6.2; Trident/3.0)</td>\n",
       "      <td>Segment C</td>\n",
       "      <td>Anantapur, Tripura</td>\n",
       "      <td>149.6.110.119</td>\n",
       "      <td>NaN</td>\n",
       "      <td>Alert Data</td>\n",
       "      <td>Firewall</td>\n",
       "    </tr>\n",
       "  </tbody>\n",
       "</table>\n",
       "<p>5 rows × 25 columns</p>\n",
       "</div>"
      ]
     },
     "execution_count": 156,
     "metadata": {},
     "output_type": "execute_result"
    }
   ],
   "execution_count": 156
  },
  {
   "metadata": {
    "ExecuteTime": {
     "end_time": "2025-03-22T08:10:07.027464Z",
     "start_time": "2025-03-22T08:10:07.015383Z"
    }
   },
   "cell_type": "code",
   "source": [
    "# Data Shape\n",
    "print(\"Entries/DataPoints: \" + str(df.shape[0]) + \" Columns:\" + str(df.shape[1]))"
   ],
   "id": "33797af97c1b5d46",
   "outputs": [
    {
     "name": "stdout",
     "output_type": "stream",
     "text": [
      "Entries/DataPoints: 40000 Columns:25\n"
     ]
    }
   ],
   "execution_count": 157
  },
  {
   "metadata": {
    "ExecuteTime": {
     "end_time": "2025-03-22T08:10:07.203614Z",
     "start_time": "2025-03-22T08:10:07.177935Z"
    }
   },
   "cell_type": "code",
   "source": [
    "# Malware Indicator has 20,000 null values - array(['IoC Detected', nan], dtype=object)\n",
    "# Since it is a Categorical field, we can encode it as 1 if IOC Detected and 0 if not detected.\n",
    "print(df['Malware Indicators'].unique())  # Finds the type of values in this column\n",
    "df['Malware Indicators'] = df['Malware Indicators'].map({'IoC Detected': 1}).fillna(0)\n",
    "df['Malware Indicators'].value_counts()"
   ],
   "id": "85d3a68a6a101182",
   "outputs": [
    {
     "name": "stdout",
     "output_type": "stream",
     "text": [
      "['IoC Detected' nan]\n"
     ]
    },
    {
     "data": {
      "text/plain": [
       "Malware Indicators\n",
       "1.0    20000\n",
       "0.0    20000\n",
       "Name: count, dtype: int64"
      ]
     },
     "execution_count": 158,
     "metadata": {},
     "output_type": "execute_result"
    }
   ],
   "execution_count": 158
  },
  {
   "metadata": {
    "ExecuteTime": {
     "end_time": "2025-03-22T08:10:07.433126Z",
     "start_time": "2025-03-22T08:10:07.408712Z"
    }
   },
   "cell_type": "code",
   "source": [
    "# Alerts/Warnings has 20067 null entries - array([nan, 'Alert Triggered'], dtype=object)\n",
    "print(df['Alerts/Warnings'].unique()) # Finds unique entries\n",
    "df['Alerts/Warnings'] = df['Alerts/Warnings'].map({'Alert Triggered': 1}).fillna(0)\n",
    "df['Alerts/Warnings'].value_counts()"
   ],
   "id": "9519c8d2a5fc665c",
   "outputs": [
    {
     "name": "stdout",
     "output_type": "stream",
     "text": [
      "[nan 'Alert Triggered']\n"
     ]
    },
    {
     "data": {
      "text/plain": [
       "Alerts/Warnings\n",
       "0.0    20067\n",
       "1.0    19933\n",
       "Name: count, dtype: int64"
      ]
     },
     "execution_count": 159,
     "metadata": {},
     "output_type": "execute_result"
    }
   ],
   "execution_count": 159
  },
  {
   "metadata": {
    "ExecuteTime": {
     "end_time": "2025-03-22T08:10:07.642061Z",
     "start_time": "2025-03-22T08:10:07.631971Z"
    }
   },
   "cell_type": "code",
   "source": [
    "# Proxy Information\n",
    "# df['Proxy Information'].unique()"
   ],
   "id": "e4803f67e7411394",
   "outputs": [],
   "execution_count": 160
  },
  {
   "metadata": {
    "ExecuteTime": {
     "end_time": "2025-03-22T08:10:07.824962Z",
     "start_time": "2025-03-22T08:10:07.793911Z"
    }
   },
   "cell_type": "code",
   "source": [
    "# Firewall Logs - array(['Log Data', nan], dtype=object)\n",
    "print(df['Firewall Logs'].unique())\n",
    "df['Firewall Logs'] = df['Firewall Logs'].map({'Log Data': 1}).fillna(0)\n",
    "df['Firewall Logs'].value_counts()"
   ],
   "id": "311490385835282a",
   "outputs": [
    {
     "name": "stdout",
     "output_type": "stream",
     "text": [
      "['Log Data' nan]\n"
     ]
    },
    {
     "data": {
      "text/plain": [
       "Firewall Logs\n",
       "1.0    20039\n",
       "0.0    19961\n",
       "Name: count, dtype: int64"
      ]
     },
     "execution_count": 161,
     "metadata": {},
     "output_type": "execute_result"
    }
   ],
   "execution_count": 161
  },
  {
   "metadata": {
    "ExecuteTime": {
     "end_time": "2025-03-22T08:10:08.120007Z",
     "start_time": "2025-03-22T08:10:08.090640Z"
    }
   },
   "cell_type": "code",
   "source": [
    "# IDS/IPS Alerts - array([nan, 'Alert Data'], dtype=object)\n",
    "print(df['IDS/IPS Alerts'].unique())\n",
    "df['IDS/IPS Alerts'] = df['IDS/IPS Alerts'].map({'Alert Data': 1}).fillna(0)\n",
    "df['IDS/IPS Alerts'].value_counts()"
   ],
   "id": "a4daa886d7a524f5",
   "outputs": [
    {
     "name": "stdout",
     "output_type": "stream",
     "text": [
      "[nan 'Alert Data']\n"
     ]
    },
    {
     "data": {
      "text/plain": [
       "IDS/IPS Alerts\n",
       "0.0    20050\n",
       "1.0    19950\n",
       "Name: count, dtype: int64"
      ]
     },
     "execution_count": 162,
     "metadata": {},
     "output_type": "execute_result"
    }
   ],
   "execution_count": 162
  },
  {
   "metadata": {
    "ExecuteTime": {
     "end_time": "2025-03-22T08:15:22.147027Z",
     "start_time": "2025-03-22T08:15:22.000579Z"
    }
   },
   "cell_type": "code",
   "source": [
    "\n",
    "# Note about Proxy Information, It contains unique entries regarding IP Addresses and hence\n",
    "## Cannot be cleaned in conventional manner. Its value can be either null or some unique IP Address\n",
    "## Out of 40000 entries 19,851 values are null.\n",
    "# df.isnull().sum()\n",
    "df"
   ],
   "id": "f5d24e23d3ae06da",
   "outputs": [
    {
     "data": {
      "text/plain": [
       "                Timestamp Source IP Address Destination IP Address  \\\n",
       "0     2023-05-30 06:33:58     103.216.15.12           84.9.164.252   \n",
       "1     2020-08-26 07:08:30    78.199.217.198         66.191.137.154   \n",
       "2     2022-11-13 08:23:25      63.79.210.48          198.219.82.17   \n",
       "3     2023-07-02 10:38:46     163.42.196.10        101.228.192.255   \n",
       "4     2023-07-16 13:11:07     71.166.185.76        189.243.174.238   \n",
       "...                   ...               ...                    ...   \n",
       "39995 2023-05-26 14:08:42      26.36.109.26         121.100.75.240   \n",
       "39996 2023-03-27 00:38:27      17.21.163.81         196.108.134.78   \n",
       "39997 2022-03-31 01:45:49     162.35.217.57            98.107.0.15   \n",
       "39998 2023-09-22 18:32:38    208.72.233.205         173.79.112.252   \n",
       "39999 2023-10-10 11:59:52     14.102.21.108           109.198.45.7   \n",
       "\n",
       "       Source Port  Destination Port Protocol  Packet Length Packet Type  \\\n",
       "0            31225             17616     ICMP            503        Data   \n",
       "1            17245             48166     ICMP           1174        Data   \n",
       "2            16811             53600      UDP            306     Control   \n",
       "3            20018             32534      UDP            385        Data   \n",
       "4             6131             26646      TCP           1462        Data   \n",
       "...            ...               ...      ...            ...         ...   \n",
       "39995        31005              6764      UDP           1428     Control   \n",
       "39996         2553             28091      UDP           1184     Control   \n",
       "39997        22505             25152      UDP           1043        Data   \n",
       "39998        20013              2703      UDP            483        Data   \n",
       "39999        50137             55575     ICMP           1175     Control   \n",
       "\n",
       "      Traffic Type  \\\n",
       "0             HTTP   \n",
       "1             HTTP   \n",
       "2             HTTP   \n",
       "3             HTTP   \n",
       "4              DNS   \n",
       "...            ...   \n",
       "39995         HTTP   \n",
       "39996         HTTP   \n",
       "39997          DNS   \n",
       "39998          FTP   \n",
       "39999         HTTP   \n",
       "\n",
       "                                                                                                                                                                                                Payload Data  \\\n",
       "0                                     Qui natus odio asperiores nam. Optio nobis iusto accusamus ad perferendis esse at. Asperiores neque at ad.\\nMaiores possimus ipsum saepe vitae. Ad possimus veritatis.   \n",
       "1      Aperiam quos modi officiis veritatis rem. Omnis nulla dolore perspiciatis.\\nIllo animi mollitia vero voluptates error ad. Quidem maxime eaque optio a. Consectetur quasi veniam et totam culpa ullam.   \n",
       "2                                                                                                                               Perferendis sapiente vitae soluta. Hic delectus quae nemo ea esse est rerum.   \n",
       "3          Totam maxime beatae expedita explicabo porro labore. Minima ab fugit officiis dicta perspiciatis pariatur. Facilis voluptates eligendi dolores eveniet deserunt. Eveniet reprehenderit culpa quo.   \n",
       "4                 Odit nesciunt dolorem nisi iste iusto. Animi voluptates soluta quis doloribus quas. Iure harum nihil hic illo repellendus.\\nQuia illo fugit eligendi doloremque. In doloremque autem iure.   \n",
       "...                                                                                                                                                                                                      ...   \n",
       "39995                                                           Quibusdam ullam consequatur consequuntur accusantium soluta. Beatae maiores temporibus ratione fuga nostrum. Quas corrupti impedit officiis.   \n",
       "39996                                   Quaerat neque esse. Animi expedita natus commodi.\\nAccusantium voluptatum perferendis dolorem nulla ullam sint nisi. Laborum quos quibusdam deserunt quam fuga quas.   \n",
       "39997  Enim at aspernatur illum. Saepe numquam eligendi tempore esse. Dolorem tenetur ipsam necessitatibus cum minima earum sequi.\\nFacere quam ducimus hic. Tempore repudiandae dolor sed voluptatem ipsum.   \n",
       "39998                                                  Officiis dolorem sed harum provident earum distinctio. Eveniet nihil neque tempora adipisci eos. Quae voluptatem minima iusto autem ab natus tempora.   \n",
       "39999                       Eligendi omnis voluptate nihil voluptatibus dolorum voluptatibus. Non placeat neque ipsum reiciendis excepturi voluptatibus optio.\\nTenetur culpa blanditiis distinctio dolores.   \n",
       "\n",
       "       ...  IDS/IPS Alerts  Log Source              state         city Region  \\\n",
       "0      ...             0.0      Server             Sikkim   Jamshedpur   East   \n",
       "1      ...             0.0    Firewall           Nagaland     Bilaspur   East   \n",
       "2      ...             1.0    Firewall          Rajasthan       Bokaro  North   \n",
       "3      ...             1.0    Firewall          Rajasthan      Jaunpur  North   \n",
       "4      ...             1.0    Firewall            Tripura    Anantapur   East   \n",
       "...    ...             ...         ...                ...          ...    ...   \n",
       "39995  ...             1.0    Firewall            Manipur       Nashik   East   \n",
       "39996  ...             0.0    Firewall            Mizoram     Vadodara   East   \n",
       "39997  ...             1.0      Server   Himachal Pradesh  Mahbubnagar  North   \n",
       "39998  ...             0.0      Server  Arunachal Pradesh     Rourkela   East   \n",
       "39999  ...             1.0    Firewall        West Bengal  Pudukkottai   East   \n",
       "\n",
       "           Month Quarter First_Component source_category dest_category  \n",
       "0            May      Q2         Mozilla      registered    registered  \n",
       "1         August      Q3         Mozilla      registered    registered  \n",
       "2       November      Q4         Mozilla      registered     ephemeral  \n",
       "3           July      Q3         Mozilla      registered    registered  \n",
       "4           July      Q3         Mozilla      registered    registered  \n",
       "...          ...     ...             ...             ...           ...  \n",
       "39995        May      Q2         Mozilla      registered    registered  \n",
       "39996      March      Q1         Mozilla      registered    registered  \n",
       "39997      March      Q1         Mozilla      registered    registered  \n",
       "39998  September      Q3         Mozilla      registered    registered  \n",
       "39999    October      Q4         Mozilla       ephemeral     ephemeral  \n",
       "\n",
       "[40000 rows x 33 columns]"
      ],
      "text/html": [
       "<div>\n",
       "<style scoped>\n",
       "    .dataframe tbody tr th:only-of-type {\n",
       "        vertical-align: middle;\n",
       "    }\n",
       "\n",
       "    .dataframe tbody tr th {\n",
       "        vertical-align: top;\n",
       "    }\n",
       "\n",
       "    .dataframe thead th {\n",
       "        text-align: right;\n",
       "    }\n",
       "</style>\n",
       "<table border=\"1\" class=\"dataframe\">\n",
       "  <thead>\n",
       "    <tr style=\"text-align: right;\">\n",
       "      <th></th>\n",
       "      <th>Timestamp</th>\n",
       "      <th>Source IP Address</th>\n",
       "      <th>Destination IP Address</th>\n",
       "      <th>Source Port</th>\n",
       "      <th>Destination Port</th>\n",
       "      <th>Protocol</th>\n",
       "      <th>Packet Length</th>\n",
       "      <th>Packet Type</th>\n",
       "      <th>Traffic Type</th>\n",
       "      <th>Payload Data</th>\n",
       "      <th>...</th>\n",
       "      <th>IDS/IPS Alerts</th>\n",
       "      <th>Log Source</th>\n",
       "      <th>state</th>\n",
       "      <th>city</th>\n",
       "      <th>Region</th>\n",
       "      <th>Month</th>\n",
       "      <th>Quarter</th>\n",
       "      <th>First_Component</th>\n",
       "      <th>source_category</th>\n",
       "      <th>dest_category</th>\n",
       "    </tr>\n",
       "  </thead>\n",
       "  <tbody>\n",
       "    <tr>\n",
       "      <th>0</th>\n",
       "      <td>2023-05-30 06:33:58</td>\n",
       "      <td>103.216.15.12</td>\n",
       "      <td>84.9.164.252</td>\n",
       "      <td>31225</td>\n",
       "      <td>17616</td>\n",
       "      <td>ICMP</td>\n",
       "      <td>503</td>\n",
       "      <td>Data</td>\n",
       "      <td>HTTP</td>\n",
       "      <td>Qui natus odio asperiores nam. Optio nobis iusto accusamus ad perferendis esse at. Asperiores neque at ad.\\nMaiores possimus ipsum saepe vitae. Ad possimus veritatis.</td>\n",
       "      <td>...</td>\n",
       "      <td>0.0</td>\n",
       "      <td>Server</td>\n",
       "      <td>Sikkim</td>\n",
       "      <td>Jamshedpur</td>\n",
       "      <td>East</td>\n",
       "      <td>May</td>\n",
       "      <td>Q2</td>\n",
       "      <td>Mozilla</td>\n",
       "      <td>registered</td>\n",
       "      <td>registered</td>\n",
       "    </tr>\n",
       "    <tr>\n",
       "      <th>1</th>\n",
       "      <td>2020-08-26 07:08:30</td>\n",
       "      <td>78.199.217.198</td>\n",
       "      <td>66.191.137.154</td>\n",
       "      <td>17245</td>\n",
       "      <td>48166</td>\n",
       "      <td>ICMP</td>\n",
       "      <td>1174</td>\n",
       "      <td>Data</td>\n",
       "      <td>HTTP</td>\n",
       "      <td>Aperiam quos modi officiis veritatis rem. Omnis nulla dolore perspiciatis.\\nIllo animi mollitia vero voluptates error ad. Quidem maxime eaque optio a. Consectetur quasi veniam et totam culpa ullam.</td>\n",
       "      <td>...</td>\n",
       "      <td>0.0</td>\n",
       "      <td>Firewall</td>\n",
       "      <td>Nagaland</td>\n",
       "      <td>Bilaspur</td>\n",
       "      <td>East</td>\n",
       "      <td>August</td>\n",
       "      <td>Q3</td>\n",
       "      <td>Mozilla</td>\n",
       "      <td>registered</td>\n",
       "      <td>registered</td>\n",
       "    </tr>\n",
       "    <tr>\n",
       "      <th>2</th>\n",
       "      <td>2022-11-13 08:23:25</td>\n",
       "      <td>63.79.210.48</td>\n",
       "      <td>198.219.82.17</td>\n",
       "      <td>16811</td>\n",
       "      <td>53600</td>\n",
       "      <td>UDP</td>\n",
       "      <td>306</td>\n",
       "      <td>Control</td>\n",
       "      <td>HTTP</td>\n",
       "      <td>Perferendis sapiente vitae soluta. Hic delectus quae nemo ea esse est rerum.</td>\n",
       "      <td>...</td>\n",
       "      <td>1.0</td>\n",
       "      <td>Firewall</td>\n",
       "      <td>Rajasthan</td>\n",
       "      <td>Bokaro</td>\n",
       "      <td>North</td>\n",
       "      <td>November</td>\n",
       "      <td>Q4</td>\n",
       "      <td>Mozilla</td>\n",
       "      <td>registered</td>\n",
       "      <td>ephemeral</td>\n",
       "    </tr>\n",
       "    <tr>\n",
       "      <th>3</th>\n",
       "      <td>2023-07-02 10:38:46</td>\n",
       "      <td>163.42.196.10</td>\n",
       "      <td>101.228.192.255</td>\n",
       "      <td>20018</td>\n",
       "      <td>32534</td>\n",
       "      <td>UDP</td>\n",
       "      <td>385</td>\n",
       "      <td>Data</td>\n",
       "      <td>HTTP</td>\n",
       "      <td>Totam maxime beatae expedita explicabo porro labore. Minima ab fugit officiis dicta perspiciatis pariatur. Facilis voluptates eligendi dolores eveniet deserunt. Eveniet reprehenderit culpa quo.</td>\n",
       "      <td>...</td>\n",
       "      <td>1.0</td>\n",
       "      <td>Firewall</td>\n",
       "      <td>Rajasthan</td>\n",
       "      <td>Jaunpur</td>\n",
       "      <td>North</td>\n",
       "      <td>July</td>\n",
       "      <td>Q3</td>\n",
       "      <td>Mozilla</td>\n",
       "      <td>registered</td>\n",
       "      <td>registered</td>\n",
       "    </tr>\n",
       "    <tr>\n",
       "      <th>4</th>\n",
       "      <td>2023-07-16 13:11:07</td>\n",
       "      <td>71.166.185.76</td>\n",
       "      <td>189.243.174.238</td>\n",
       "      <td>6131</td>\n",
       "      <td>26646</td>\n",
       "      <td>TCP</td>\n",
       "      <td>1462</td>\n",
       "      <td>Data</td>\n",
       "      <td>DNS</td>\n",
       "      <td>Odit nesciunt dolorem nisi iste iusto. Animi voluptates soluta quis doloribus quas. Iure harum nihil hic illo repellendus.\\nQuia illo fugit eligendi doloremque. In doloremque autem iure.</td>\n",
       "      <td>...</td>\n",
       "      <td>1.0</td>\n",
       "      <td>Firewall</td>\n",
       "      <td>Tripura</td>\n",
       "      <td>Anantapur</td>\n",
       "      <td>East</td>\n",
       "      <td>July</td>\n",
       "      <td>Q3</td>\n",
       "      <td>Mozilla</td>\n",
       "      <td>registered</td>\n",
       "      <td>registered</td>\n",
       "    </tr>\n",
       "    <tr>\n",
       "      <th>...</th>\n",
       "      <td>...</td>\n",
       "      <td>...</td>\n",
       "      <td>...</td>\n",
       "      <td>...</td>\n",
       "      <td>...</td>\n",
       "      <td>...</td>\n",
       "      <td>...</td>\n",
       "      <td>...</td>\n",
       "      <td>...</td>\n",
       "      <td>...</td>\n",
       "      <td>...</td>\n",
       "      <td>...</td>\n",
       "      <td>...</td>\n",
       "      <td>...</td>\n",
       "      <td>...</td>\n",
       "      <td>...</td>\n",
       "      <td>...</td>\n",
       "      <td>...</td>\n",
       "      <td>...</td>\n",
       "      <td>...</td>\n",
       "      <td>...</td>\n",
       "    </tr>\n",
       "    <tr>\n",
       "      <th>39995</th>\n",
       "      <td>2023-05-26 14:08:42</td>\n",
       "      <td>26.36.109.26</td>\n",
       "      <td>121.100.75.240</td>\n",
       "      <td>31005</td>\n",
       "      <td>6764</td>\n",
       "      <td>UDP</td>\n",
       "      <td>1428</td>\n",
       "      <td>Control</td>\n",
       "      <td>HTTP</td>\n",
       "      <td>Quibusdam ullam consequatur consequuntur accusantium soluta. Beatae maiores temporibus ratione fuga nostrum. Quas corrupti impedit officiis.</td>\n",
       "      <td>...</td>\n",
       "      <td>1.0</td>\n",
       "      <td>Firewall</td>\n",
       "      <td>Manipur</td>\n",
       "      <td>Nashik</td>\n",
       "      <td>East</td>\n",
       "      <td>May</td>\n",
       "      <td>Q2</td>\n",
       "      <td>Mozilla</td>\n",
       "      <td>registered</td>\n",
       "      <td>registered</td>\n",
       "    </tr>\n",
       "    <tr>\n",
       "      <th>39996</th>\n",
       "      <td>2023-03-27 00:38:27</td>\n",
       "      <td>17.21.163.81</td>\n",
       "      <td>196.108.134.78</td>\n",
       "      <td>2553</td>\n",
       "      <td>28091</td>\n",
       "      <td>UDP</td>\n",
       "      <td>1184</td>\n",
       "      <td>Control</td>\n",
       "      <td>HTTP</td>\n",
       "      <td>Quaerat neque esse. Animi expedita natus commodi.\\nAccusantium voluptatum perferendis dolorem nulla ullam sint nisi. Laborum quos quibusdam deserunt quam fuga quas.</td>\n",
       "      <td>...</td>\n",
       "      <td>0.0</td>\n",
       "      <td>Firewall</td>\n",
       "      <td>Mizoram</td>\n",
       "      <td>Vadodara</td>\n",
       "      <td>East</td>\n",
       "      <td>March</td>\n",
       "      <td>Q1</td>\n",
       "      <td>Mozilla</td>\n",
       "      <td>registered</td>\n",
       "      <td>registered</td>\n",
       "    </tr>\n",
       "    <tr>\n",
       "      <th>39997</th>\n",
       "      <td>2022-03-31 01:45:49</td>\n",
       "      <td>162.35.217.57</td>\n",
       "      <td>98.107.0.15</td>\n",
       "      <td>22505</td>\n",
       "      <td>25152</td>\n",
       "      <td>UDP</td>\n",
       "      <td>1043</td>\n",
       "      <td>Data</td>\n",
       "      <td>DNS</td>\n",
       "      <td>Enim at aspernatur illum. Saepe numquam eligendi tempore esse. Dolorem tenetur ipsam necessitatibus cum minima earum sequi.\\nFacere quam ducimus hic. Tempore repudiandae dolor sed voluptatem ipsum.</td>\n",
       "      <td>...</td>\n",
       "      <td>1.0</td>\n",
       "      <td>Server</td>\n",
       "      <td>Himachal Pradesh</td>\n",
       "      <td>Mahbubnagar</td>\n",
       "      <td>North</td>\n",
       "      <td>March</td>\n",
       "      <td>Q1</td>\n",
       "      <td>Mozilla</td>\n",
       "      <td>registered</td>\n",
       "      <td>registered</td>\n",
       "    </tr>\n",
       "    <tr>\n",
       "      <th>39998</th>\n",
       "      <td>2023-09-22 18:32:38</td>\n",
       "      <td>208.72.233.205</td>\n",
       "      <td>173.79.112.252</td>\n",
       "      <td>20013</td>\n",
       "      <td>2703</td>\n",
       "      <td>UDP</td>\n",
       "      <td>483</td>\n",
       "      <td>Data</td>\n",
       "      <td>FTP</td>\n",
       "      <td>Officiis dolorem sed harum provident earum distinctio. Eveniet nihil neque tempora adipisci eos. Quae voluptatem minima iusto autem ab natus tempora.</td>\n",
       "      <td>...</td>\n",
       "      <td>0.0</td>\n",
       "      <td>Server</td>\n",
       "      <td>Arunachal Pradesh</td>\n",
       "      <td>Rourkela</td>\n",
       "      <td>East</td>\n",
       "      <td>September</td>\n",
       "      <td>Q3</td>\n",
       "      <td>Mozilla</td>\n",
       "      <td>registered</td>\n",
       "      <td>registered</td>\n",
       "    </tr>\n",
       "    <tr>\n",
       "      <th>39999</th>\n",
       "      <td>2023-10-10 11:59:52</td>\n",
       "      <td>14.102.21.108</td>\n",
       "      <td>109.198.45.7</td>\n",
       "      <td>50137</td>\n",
       "      <td>55575</td>\n",
       "      <td>ICMP</td>\n",
       "      <td>1175</td>\n",
       "      <td>Control</td>\n",
       "      <td>HTTP</td>\n",
       "      <td>Eligendi omnis voluptate nihil voluptatibus dolorum voluptatibus. Non placeat neque ipsum reiciendis excepturi voluptatibus optio.\\nTenetur culpa blanditiis distinctio dolores.</td>\n",
       "      <td>...</td>\n",
       "      <td>1.0</td>\n",
       "      <td>Firewall</td>\n",
       "      <td>West Bengal</td>\n",
       "      <td>Pudukkottai</td>\n",
       "      <td>East</td>\n",
       "      <td>October</td>\n",
       "      <td>Q4</td>\n",
       "      <td>Mozilla</td>\n",
       "      <td>ephemeral</td>\n",
       "      <td>ephemeral</td>\n",
       "    </tr>\n",
       "  </tbody>\n",
       "</table>\n",
       "<p>40000 rows × 33 columns</p>\n",
       "</div>"
      ]
     },
     "execution_count": 179,
     "metadata": {},
     "output_type": "execute_result"
    }
   ],
   "execution_count": 179
  },
  {
   "metadata": {},
   "cell_type": "markdown",
   "source": "Provide 5 unique insights that you can obtain based on the cyber data analysis. Provide supportive data and visualization (if any). List and explain them.",
   "id": "ec241f6f565e0790"
  },
  {
   "metadata": {
    "ExecuteTime": {
     "end_time": "2025-03-22T08:48:35.116111Z",
     "start_time": "2025-03-22T08:48:34.734027Z"
    }
   },
   "cell_type": "code",
   "source": [
    "region_mapping = {\n",
    "    \"North\": [\"Jammu and Kashmir\", \"Himachal Pradesh\", \"Punjab\", \"Uttarakhand\", \"Haryana\", \"Delhi\", \"Rajasthan\",\n",
    "              \"Uttar Pradesh\", \"Chandigarh\"],\n",
    "    \"East\": [\"Bihar\", \"Jharkhand\", \"Odisha\", \"West Bengal\", \"Sikkim\", \"Assam\", \"Meghalaya\", \"Tripura\", \"Nagaland\",\n",
    "             \"Manipur\", \"Mizoram\", \"Arunachal Pradesh\"],\n",
    "    \"South\": [\"Tamil Nadu\", \"Karnataka\", \"Kerala\", \"Andhra Pradesh\", \"Telangana\", \"Puducherry\", \"Lakshadweep\"],\n",
    "    \"West\": [\"Goa\", \"Maharashtra\", \"Gujarat\", \"Dadra and Nagar Haveli\", \"Daman and Diu\"],\n",
    "    \"Central\": [\"Madhya Pradesh\", \"Chhattisgarh\"],\n",
    "}\n",
    "\n",
    "\n",
    "def get_region(state):\n",
    "    for region, states in region_mapping.items():\n",
    "        if state in states:\n",
    "            return region\n",
    "    return \"Unknown\"  # If the state is not found\n",
    "\n",
    "\n",
    "df['state'] = df['Geo-location Data'].str.extract(r',\\s*(.*)')\n",
    "df['city'] = df['Geo-location Data'].str.extract(r'(.*),\\s*')\n",
    "df[['city', 'state', 'Attack Type']].groupby(['city', 'state']).size()\n",
    "df[\"Region\"] = df[\"state\"].apply(get_region)\n",
    "print(df['Region'].value_counts())\n",
    "ax = df['Region'].value_counts().plot(kind='bar', y='Region', x='state', ylabel='Frequency', xlabel='State', title='Attacks per Region')\n",
    "ax.bar_label(ax.containers[0])\n",
    "ax.grid(axis='y', color='gray', linestyle='--', alpha=0.3)\n",
    "for i, bar in enumerate(ax.containers[0]):\n",
    "    ax.text(bar.get_x() + bar.get_width() / 2, bar.get_height() / 2, f'#{i + 1}', ha='center', va='center',\n",
    "            color='black', fontsize=12, fontweight='bold')"
   ],
   "id": "8b8460659481fb4f",
   "outputs": [
    {
     "name": "stdout",
     "output_type": "stream",
     "text": [
      "Region\n",
      "East       17219\n",
      "North       8584\n",
      "South       7068\n",
      "West        4356\n",
      "Central     2773\n",
      "Name: count, dtype: int64\n"
     ]
    },
    {
     "data": {
      "text/plain": [
       "<Figure size 640x480 with 1 Axes>"
      ],
      "image/png": "[encoded data removed]"
     },
     "metadata": {},
     "output_type": "display_data"
    }
   ],
   "execution_count": 186
  },
  {
   "metadata": {
    "ExecuteTime": {
     "end_time": "2025-03-22T09:31:59.136526Z",
     "start_time": "2025-03-22T09:31:58.555346Z"
    }
   },
   "cell_type": "code",
   "source": [
    "# Insight No 2\n",
    "# df.groupby(['state','Severity Level', 'Attack Type']).size()#[df[\"Anomaly Scores\"] > 90]#.size()\n",
    "df['Timestamp'] = pd.to_datetime(df['Timestamp'])\n",
    "df['Month'] = df['Timestamp'].dt.strftime('%B')\n",
    "month_to_quarter = {\n",
    "    \"January\": \"Q1\", \"February\": \"Q1\", \"March\": \"Q1\",\n",
    "    \"April\": \"Q2\", \"May\": \"Q2\", \"June\": \"Q2\",\n",
    "    \"July\": \"Q3\", \"August\": \"Q3\", \"September\": \"Q3\",\n",
    "    \"October\": \"Q4\", \"November\": \"Q4\", \"December\": \"Q4\"\n",
    "}\n",
    "\n",
    "df['Quarter'] = df['Month'].map(month_to_quarter)\n",
    "ax = df['Quarter'].value_counts().plot(kind='bar')\n",
    "ax.bar_label(ax.containers[0])\n",
    "ax.grid(axis='y', color='gray', linestyle='--', alpha=0.3)\n",
    "for i, bar in enumerate(ax.containers[0]):\n",
    "    ax.text(bar.get_x() + bar.get_width() / 2, bar.get_height() / 2, f'#{i + 1}', ha='center', va='center',\n",
    "            color='black', fontsize=12, fontweight='bold')"
   ],
   "id": "707436469b667f1",
   "outputs": [
    {
     "data": {
      "text/plain": [
       "<Figure size 640x480 with 1 Axes>"
      ],
      "image/png": "[encoded data removed]"
     },
     "metadata": {},
     "output_type": "display_data"
    }
   ],
   "execution_count": 187
  },
  {
   "metadata": {
    "ExecuteTime": {
     "end_time": "2025-03-22T09:35:03.878137Z",
     "start_time": "2025-03-22T09:35:03.498753Z"
    }
   },
   "cell_type": "code",
   "source": [
    "# Insight No 3\n",
    "\n",
    "windows = df[df[\"Device Information\"].str.contains(\"Windows\")]\n",
    "linux = df[df[\"Device Information\"].str.contains(\"Linux\")]\n",
    "mac = df[df[\"Device Information\"].str.contains(\"Mac OS\")]\n",
    "os_df = pd.DataFrame({\n",
    "    \"OS\": [\"windows\",\"linux\",\"mac\"],\n",
    "    \"count\": [windows.shape[0],linux.shape[0],mac.shape[0]]\n",
    "})\n",
    "os_df = os_df.sort_values(by='count', ascending=False)\n",
    "\n",
    "ax = os_df.plot(\n",
    "    x= \"OS\",\n",
    "    y = \"count\",\n",
    "    kind='bar',\n",
    "    title='Traffic Distribution By User OS',\n",
    "    xlabel=\"Operating System\",\n",
    "    ylabel=\"User Count\")\n",
    "ax.bar_label(ax.containers[0])\n",
    "ax.grid(axis='y', color='gray', linestyle='--', alpha=0.3)\n",
    "for i, bar in enumerate(ax.containers[0]):\n",
    "    ax.text(bar.get_x() + bar.get_width() / 2, bar.get_height() / 2, f'#{i + 1}', ha='center', va='center',\n",
    "            color='black', fontsize=12, fontweight='bold')"
   ],
   "id": "8d8fea001d464ead",
   "outputs": [
    {
     "data": {
      "text/plain": [
       "<Figure size 640x480 with 1 Axes>"
      ],
      "image/png": "[encoded data removed]"
     },
     "metadata": {},
     "output_type": "display_data"
    }
   ],
   "execution_count": 188
  },
  {
   "metadata": {
    "ExecuteTime": {
     "end_time": "2025-03-22T09:46:33.537470Z",
     "start_time": "2025-03-22T09:46:33.227301Z"
    }
   },
   "cell_type": "code",
   "source": [
    "# Insight No 4\n",
    "df['First_Component'] = df['Device Information'].str.split('/').str[0].str.strip()\n",
    "ax = df['First_Component'].value_counts().plot(kind='bar')\n",
    "ax.bar_label(ax.containers[0])\n",
    "ax.grid(axis='y', color='gray', linestyle='--', alpha=0.3)\n",
    "for i, bar in enumerate(ax.containers[0]):\n",
    "    ax.text(bar.get_x() + bar.get_width() / 2, bar.get_height() / 2, f'#{i + 1}', ha='center', va='center',\n",
    "            color='black', fontsize=12, fontweight='bold')"
   ],
   "id": "9200d76466ea4a57",
   "outputs": [
    {
     "data": {
      "text/plain": [
       "<Figure size 640x480 with 1 Axes>"
      ],
      "image/png": "[encoded data removed]"
     },
     "metadata": {},
     "output_type": "display_data"
    }
   ],
   "execution_count": 189
  },
  {
   "metadata": {
    "ExecuteTime": {
     "end_time": "2025-03-22T08:10:11.262989Z",
     "start_time": "2025-03-22T08:10:11.211807Z"
    }
   },
   "cell_type": "code",
   "source": [
    "# Insight No 5\n",
    "import pandas as pd\n",
    "\n",
    "port_labels = [\"well_known\", \"registered\", \"ephemeral\"]\n",
    "bins = [0, 1023, 49151, 65535]\n",
    "\n",
    "# Categorize ports\n",
    "df['source_category'] = pd.cut(\n",
    "    df['Source Port'],\n",
    "    bins=bins,\n",
    "    labels=port_labels,\n",
    "    include_lowest=True\n",
    ")\n",
    "df['dest_category'] = pd.cut(\n",
    "    df['Destination Port'],\n",
    "    bins=bins,\n",
    "    labels=port_labels,\n",
    "    include_lowest=True\n",
    ")\n",
    "\n",
    "# Count occurrences and ensure all categories appear (even with zero counts)\n",
    "source_counts = df['source_category'].value_counts().reindex(port_labels, fill_value=0)\n",
    "dest_counts = df['dest_category'].value_counts().reindex(port_labels, fill_value=0)"
   ],
   "id": "b4c1b7c21653260",
   "outputs": [],
   "execution_count": 168
  },
  {
   "metadata": {
    "ExecuteTime": {
     "end_time": "2025-03-22T09:49:05.961535Z",
     "start_time": "2025-03-22T09:49:05.737679Z"
    }
   },
   "cell_type": "code",
   "source": [
    "ax = df[\"source_category\"].value_counts().plot(kind='bar', title=\"Source Port \")\n",
    "ax.bar_label(ax.containers[0])\n",
    "ax.grid(axis='y', color='gray', linestyle='--', alpha=0.3)"
   ],
   "id": "8477b359863d78a5",
   "outputs": [
    {
     "data": {
      "text/plain": [
       "<Figure size 640x480 with 1 Axes>"
      ],
      "image/png": "[encoded data removed]"
     },
     "metadata": {},
     "output_type": "display_data"
    }
   ],
   "execution_count": 193
  },
  {
   "metadata": {
    "ExecuteTime": {
     "end_time": "2025-03-22T10:05:49.569833Z",
     "start_time": "2025-03-22T10:05:49.415462Z"
    }
   },
   "cell_type": "code",
   "source": [
    "ax = df[\"dest_category\"].value_counts().plot(kind='bar')\n",
    "ax.bar_label(ax.containers[0])\n",
    "ax.grid(axis='y', color='gray', linestyle='--', alpha=0.3)"
   ],
   "id": "f31bededd280d8ea",
   "outputs": [
    {
     "data": {
      "text/plain": [
       "<Figure size 640x480 with 1 Axes>"
      ],
      "image/png": "[encoded data removed]"
     },
     "metadata": {},
     "output_type": "display_data"
    }
   ],
   "execution_count": 196
  },
  {
   "metadata": {
    "ExecuteTime": {
     "end_time": "2025-03-22T10:05:24.100815Z",
     "start_time": "2025-03-22T10:05:24.095573Z"
    }
   },
   "cell_type": "code",
   "source": [
    "# df[df['source_category'].str.contains(\"ephemeral\")][\"Payload Data\"].str.len().sort_values(ascending=False).plot(kind='line')\n",
    "# df.plot(kind=\"bar\",subplots=True,layout=(3,3))\n",
    "# df.dtypes"
   ],
   "id": "7a7bc5ca5956cf29",
   "outputs": [],
   "execution_count": 194
  }
 ],
 "metadata": {
  "kernelspec": {
   "display_name": "Python 3",
   "language": "python",
   "name": "python3"
  },
  "language_info": {
   "codemirror_mode": {
    "name": "ipython",
    "version": 2
   },
   "file_extension": ".py",
   "mimetype": "text/x-python",
   "name": "python",
   "nbconvert_exporter": "python",
   "pygments_lexer": "ipython2",
   "version": "2.7.6"
  }
 },
 "nbformat": 4,
 "nbformat_minor": 5
}
