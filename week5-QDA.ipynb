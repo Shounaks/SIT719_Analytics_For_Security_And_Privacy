{
 "cells": [
  {
   "metadata": {
    "collapsed": true,
    "ExecuteTime": {
     "end_time": "2025-03-13T07:07:54.796795Z",
     "start_time": "2025-03-13T07:07:54.788893Z"
    }
   },
   "cell_type": "code",
   "source": [
    "import pandas as pd\n",
    "from imblearn.over_sampling import ADASYN\n",
    "from sklearn.model_selection import train_test_split\n",
    "from sklearn.preprocessing import StandardScaler, LabelEncoder\n"
   ],
   "id": "initial_id",
   "outputs": [],
   "execution_count": 27
  },
  {
   "metadata": {},
   "cell_type": "markdown",
   "source": "# WORK IN PROGRESS DO NOT USE",
   "id": "257c7a10b4c96a04"
  },
  {
   "metadata": {
    "ExecuteTime": {
     "end_time": "2025-03-13T07:07:55.505470Z",
     "start_time": "2025-03-13T07:07:54.868064Z"
    }
   },
   "cell_type": "code",
   "source": [
    "# First step is to load our data\n",
    "dataFrame = pd.read_csv('data/Week_5_NSL-KDD-Dataset/kdd_merged.csv')\n",
    "\n",
    "# Indices of nominal features\n",
    "nominal_columns = dataFrame.columns[[1, 2, 3, 41, 43]].tolist()\n",
    "binary_columns = dataFrame.columns[[6, 11, 13, 14, 20, 21]].tolist()\n",
    "numeric_columns = [col for col in dataFrame.columns if col not in nominal_columns and col not in binary_columns]\n",
    "\n",
    "# Remove useless item\n",
    "dataFrame.drop('num_outbound_cmds', inplace=True, axis=1)\n",
    "numeric_columns.remove('num_outbound_cmds')\n",
    "\n",
    "# Fix SU Attempted\n",
    "dataFrame['su_attempted'] = dataFrame['su_attempted'].replace(2, 0)\n",
    "# nominal_columns, binary_columns, numeric_columns\n",
    "\n",
    "# 1. Extract features and target variable\n",
    "\n",
    "X = dataFrame.drop(['attack_category', 'attack_type'], axis=1)\n",
    "nominal_columns.remove('attack_category')\n",
    "nominal_columns.remove('attack_type')\n",
    "\n",
    "y = dataFrame['attack_category']\n"
   ],
   "id": "332ecdec133f60e8",
   "outputs": [],
   "execution_count": 28
  },
  {
   "metadata": {
    "ExecuteTime": {
     "end_time": "2025-03-13T07:07:55.857489Z",
     "start_time": "2025-03-13T07:07:55.576558Z"
    }
   },
   "cell_type": "code",
   "source": [
    "# 3. Scale numeric features - Identify and handle non-numeric columns\n",
    "scaler = StandardScaler()\n",
    "# Get numeric columns excluding those with non-numeric data\n",
    "X[numeric_columns] = scaler.fit_transform(X[numeric_columns])  # Apply scaling to numeric columns only\n",
    "\n",
    "# 4. Create dummy variables for nominal and binary features\n",
    "columns_to_encode = nominal_columns\n",
    "\n",
    "X = pd.get_dummies(X, columns=columns_to_encode, drop_first=True)  #drop_first to avoid dummy variable trap"
   ],
   "id": "9a3e8ec58103c610",
   "outputs": [],
   "execution_count": 29
  },
  {
   "metadata": {
    "ExecuteTime": {
     "end_time": "2025-03-13T07:08:37.228142Z",
     "start_time": "2025-03-13T07:07:55.864380Z"
    }
   },
   "cell_type": "code",
   "source": [
    "# 5. Split data\n",
    "X_train, X_test, y_train, y_test = train_test_split(X, y, test_size=0.2, random_state=42)\n",
    "\n",
    "# 6. Apply ADASYN (if needed)\n",
    "adasyn = ADASYN(sampling_strategy='auto', random_state=42)\n",
    "X_train, y_train = adasyn.fit_resample(X_train, y_train)"
   ],
   "id": "d8a859c63dbb195e",
   "outputs": [],
   "execution_count": 30
  },
  {
   "metadata": {
    "ExecuteTime": {
     "end_time": "2025-03-13T07:08:51.526913Z",
     "start_time": "2025-03-13T07:08:37.330344Z"
    }
   },
   "cell_type": "code",
   "source": [
    "import numpy as np\n",
    "from sklearn.metrics import zero_one_loss, accuracy_score, classification_report, confusion_matrix\n",
    "from sklearn.discriminant_analysis import QuadraticDiscriminantAnalysis\n",
    "\n",
    "def print_score(classifer_name: str, y_test_data, y_pred_data):\n",
    "    print(f\"\\n{classifer_name}\\n\")\n",
    "    print(f\"Zero One Loss: {zero_one_loss(y_test_data, y_pred_data):.4f}\")\n",
    "    print(f\"Accuracy: {accuracy_score(y_test_data, y_pred_data):.2f}\")\n",
    "    print(\"\\nClassification Report:\\n\", classification_report(y_test_data, y_pred_data))\n",
    "    print(\"\\nConfusion Matrix:\\n\", confusion_matrix(y_test_data, y_pred_data))\n",
    "    # print(\"\\nR2 Score:\\n\", calculate_r2_score(y_test_data, y_pred_data))\n",
    "\n",
    "print(\"QDA: Cleaning Correleation Matrix:\")\n",
    "# Removing Highly correlated items.\n",
    "# Compute correlation matrix\n",
    "correlation_matrix = X_train.corr().abs()\n",
    "\n",
    "# Select upper triangle of the correlation matrix\n",
    "upper_tri = correlation_matrix.where(np.triu(np.ones(correlation_matrix.shape), k=1).astype(bool))\n",
    "\n",
    "# Find features with high correlation\n",
    "to_drop = [column for column in upper_tri.columns if any(upper_tri[column] > 0.9)]\n",
    "\n",
    "print(f\"Removing Features: {to_drop}\")\n",
    "\n",
    "# Drop from both train and test sets\n",
    "X_train_resampled = X_train.drop(columns=to_drop)\n",
    "X_test = X_test.drop(columns=to_drop)\n",
    "\n",
    "qda = QuadraticDiscriminantAnalysis(reg_param=0.1)\n",
    "qda.fit(X_train_resampled, y_train)\n",
    "y_pred = qda.predict(X_test)\n",
    "print_score(\"QDA\", y_test, y_pred)"
   ],
   "id": "1961a6878d7188b0",
   "outputs": [
    {
     "name": "stdout",
     "output_type": "stream",
     "text": [
      "QDA: Cleaning Correleation Matrix:\n",
      "Removing Features: ['num_root', 'srv_serror_rate', 'srv_rerror_rate', 'dst_host_serror_rate', 'dst_host_srv_serror_rate', 'flag_S0']\n"
     ]
    },
    {
     "name": "stderr",
     "output_type": "stream",
     "text": [
      "C:\\Users\\shoun\\miniconda3\\Lib\\site-packages\\sklearn\\discriminant_analysis.py:947: UserWarning: Variables are collinear\n",
      "  warnings.warn(\"Variables are collinear\")\n"
     ]
    },
    {
     "name": "stdout",
     "output_type": "stream",
     "text": [
      "\n",
      "QDA\n",
      "\n",
      "Zero One Loss: 0.0809\n",
      "Accuracy: 0.92\n",
      "\n",
      "Classification Report:\n",
      "               precision    recall  f1-score   support\n",
      "\n",
      "      benign       0.99      0.91      0.95     15450\n",
      "         dos       0.89      0.99      0.94     10723\n",
      "       probe       0.84      0.83      0.84      2750\n",
      "         r2l       0.52      0.34      0.41       724\n",
      "         u2r       0.08      0.49      0.14        57\n",
      "\n",
      "    accuracy                           0.92     29704\n",
      "   macro avg       0.67      0.71      0.66     29704\n",
      "weighted avg       0.93      0.92      0.92     29704\n",
      "\n",
      "\n",
      "Confusion Matrix:\n",
      " [[14107   708   363   213    59]\n",
      " [   61 10627    31     4     0]\n",
      " [   48   403  2296     0     3]\n",
      " [   56   150    23   243   252]\n",
      " [    0     9    17     3    28]]\n"
     ]
    }
   ],
   "execution_count": 31
  }
 ],
 "metadata": {
  "kernelspec": {
   "display_name": "Python 3",
   "language": "python",
   "name": "python3"
  },
  "language_info": {
   "codemirror_mode": {
    "name": "ipython",
    "version": 2
   },
   "file_extension": ".py",
   "mimetype": "text/x-python",
   "name": "python",
   "nbconvert_exporter": "python",
   "pygments_lexer": "ipython2",
   "version": "2.7.6"
  }
 },
 "nbformat": 4,
 "nbformat_minor": 5
}
