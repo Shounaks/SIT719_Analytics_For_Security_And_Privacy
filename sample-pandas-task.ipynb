{
 "cells": [
  {
   "metadata": {},
   "cell_type": "markdown",
   "source": "Code to Remove NaN (not a number) values from DataFrame",
   "id": "a2b9cf5746cb04e"
  },
  {
   "metadata": {
    "collapsed": true,
    "ExecuteTime": {
     "end_time": "2025-03-05T04:40:14.201777Z",
     "start_time": "2025-03-05T04:40:14.178856Z"
    }
   },
   "cell_type": "code",
   "source": [
    "import pandas as pd\n",
    "import numpy as np\n",
    "\n",
    "# Sample DataFrame\n",
    "data = {'A': [1, 2, np.nan], 'B': [4, np.nan, 6]}\n",
    "df = pd.DataFrame(data)\n",
    "print(pd.DataFrame(df.isna().sum(),columns=[[\"NaN Count\"]]))\n",
    "df = df.dropna()\n",
    "print(pd.DataFrame(df.isna().sum(),columns=[[\"NaN Count\"]]))\n"
   ],
   "id": "initial_id",
   "outputs": [
    {
     "name": "stdout",
     "output_type": "stream",
     "text": [
      "  NaN Count\n",
      "A         1\n",
      "B         1\n",
      "  NaN Count\n",
      "A         0\n",
      "B         0\n"
     ]
    }
   ],
   "execution_count": 14
  },
  {
   "metadata": {},
   "cell_type": "markdown",
   "source": "Code to Calculate Descriptive Statistics for an Array\n",
   "id": "35768d7e67ed16fb"
  },
  {
   "metadata": {
    "ExecuteTime": {
     "end_time": "2025-03-05T04:49:58.239824Z",
     "start_time": "2025-03-05T04:49:58.223296Z"
    }
   },
   "cell_type": "code",
   "source": [
    "import pandas as pd\n",
    "\n",
    "arr = pd.Series([10, 20, 30, 40, 50])\n",
    "\n",
    "# Descriptive Statistics\n",
    "print(f\"SUM= {arr.sum()}\")\n",
    "print(f\"AVG= {arr.mean()}\")\n",
    "print(f\"MIN= {arr.min()}\")\n",
    "print(f\"MAX= {arr.max()}\")\n",
    "print(f\"MEAN= {arr.mean()}\")\n",
    "print(f\"STD= {arr.std()}\")\n",
    "\n",
    "# Quartile Info\n",
    "print(f\"First Quartile= {arr.quantile(0.25)}\")\n",
    "print(f\"MEDIAN= {arr.median()}\")\n",
    "print(f\"Third Quartile= {arr.quantile(0.75)}\")\n"
   ],
   "id": "60aea75a1ec3c123",
   "outputs": [
    {
     "name": "stdout",
     "output_type": "stream",
     "text": [
      "SUM= 150\n",
      "AVG= 30.0\n",
      "MIN= 10\n",
      "MAX= 50\n",
      "MEAN= 30.0\n",
      "STD= 15.811388300841896\n",
      "First Quartile= 20.0\n",
      "MEDIAN= 30.0\n",
      "Third Quartile= 40.0\n"
     ]
    }
   ],
   "execution_count": 17
  }
 ],
 "metadata": {
  "kernelspec": {
   "display_name": "Python 3",
   "language": "python",
   "name": "python3"
  },
  "language_info": {
   "codemirror_mode": {
    "name": "ipython",
    "version": 2
   },
   "file_extension": ".py",
   "mimetype": "text/x-python",
   "name": "python",
   "nbconvert_exporter": "python",
   "pygments_lexer": "ipython2",
   "version": "2.7.6"
  }
 },
 "nbformat": 4,
 "nbformat_minor": 5
}
