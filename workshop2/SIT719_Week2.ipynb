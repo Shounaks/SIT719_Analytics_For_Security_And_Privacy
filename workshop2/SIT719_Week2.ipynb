{
 "nbformat": 4,
 "nbformat_minor": 0,
 "metadata": {
  "colab": {
   "provenance": []
  },
  "kernelspec": {
   "name": "python3",
   "display_name": "Python 3 (ipykernel)",
   "language": "python"
  },
  "language_info": {
   "name": "python"
  }
 },
 "cells": [
  {
   "cell_type": "code",
   "metadata": {
    "id": "HhPNqw-xos5J",
    "ExecuteTime": {
     "end_time": "2025-03-22T06:39:32.512103Z",
     "start_time": "2025-03-22T06:39:31.386677Z"
    }
   },
   "source": [
    "import pandas as pd\n",
    "import numpy as np"
   ],
   "outputs": [],
   "execution_count": 4
  },
  {
   "cell_type": "code",
   "source": [
    "#https://raw.githubusercontent.com/mwaskom/seaborn-data/master/penguins.csv\n",
    "penguin_df = pd.read_csv(\"penguins.csv\", names=['species', 'island', 'bill_length_mm', 'bill_depth_mm', 'flipper_length_mm', 'body_mass_g', 'sex'])\n",
    "penguin_df"
   ],
   "metadata": {
    "id": "lvu0a33u2ZFw",
    "ExecuteTime": {
     "end_time": "2025-03-22T06:39:33.285680Z",
     "start_time": "2025-03-22T06:39:33.231500Z"
    }
   },
   "outputs": [
    {
     "data": {
      "text/plain": [
       "    species     island  bill_length_mm  bill_depth_mm  flipper_length_mm  \\\n",
       "0    Adelie  Torgersen            39.1           18.7              181.0   \n",
       "1    Adelie  Torgersen            39.5           17.4              186.0   \n",
       "2    Adelie  Torgersen            40.3           18.0              195.0   \n",
       "3    Adelie  Torgersen             NaN            NaN                NaN   \n",
       "4    Adelie  Torgersen            36.7           19.3              193.0   \n",
       "..      ...        ...             ...            ...                ...   \n",
       "339  Gentoo     Biscoe             NaN            NaN                NaN   \n",
       "340  Gentoo     Biscoe            46.8           14.3              215.0   \n",
       "341  Gentoo     Biscoe            50.4           15.7              222.0   \n",
       "342  Gentoo     Biscoe            45.2           14.8              212.0   \n",
       "343  Gentoo     Biscoe            49.9           16.1              213.0   \n",
       "\n",
       "     body_mass_g     sex  \n",
       "0         3750.0    MALE  \n",
       "1         3800.0  FEMALE  \n",
       "2         3250.0  FEMALE  \n",
       "3            NaN     NaN  \n",
       "4         3450.0  FEMALE  \n",
       "..           ...     ...  \n",
       "339          NaN     NaN  \n",
       "340       4850.0  FEMALE  \n",
       "341       5750.0    MALE  \n",
       "342       5200.0  FEMALE  \n",
       "343       5400.0    MALE  \n",
       "\n",
       "[344 rows x 7 columns]"
      ],
      "text/html": [
       "<div>\n",
       "<style scoped>\n",
       "    .dataframe tbody tr th:only-of-type {\n",
       "        vertical-align: middle;\n",
       "    }\n",
       "\n",
       "    .dataframe tbody tr th {\n",
       "        vertical-align: top;\n",
       "    }\n",
       "\n",
       "    .dataframe thead th {\n",
       "        text-align: right;\n",
       "    }\n",
       "</style>\n",
       "<table border=\"1\" class=\"dataframe\">\n",
       "  <thead>\n",
       "    <tr style=\"text-align: right;\">\n",
       "      <th></th>\n",
       "      <th>species</th>\n",
       "      <th>island</th>\n",
       "      <th>bill_length_mm</th>\n",
       "      <th>bill_depth_mm</th>\n",
       "      <th>flipper_length_mm</th>\n",
       "      <th>body_mass_g</th>\n",
       "      <th>sex</th>\n",
       "    </tr>\n",
       "  </thead>\n",
       "  <tbody>\n",
       "    <tr>\n",
       "      <th>0</th>\n",
       "      <td>Adelie</td>\n",
       "      <td>Torgersen</td>\n",
       "      <td>39.1</td>\n",
       "      <td>18.7</td>\n",
       "      <td>181.0</td>\n",
       "      <td>3750.0</td>\n",
       "      <td>MALE</td>\n",
       "    </tr>\n",
       "    <tr>\n",
       "      <th>1</th>\n",
       "      <td>Adelie</td>\n",
       "      <td>Torgersen</td>\n",
       "      <td>39.5</td>\n",
       "      <td>17.4</td>\n",
       "      <td>186.0</td>\n",
       "      <td>3800.0</td>\n",
       "      <td>FEMALE</td>\n",
       "    </tr>\n",
       "    <tr>\n",
       "      <th>2</th>\n",
       "      <td>Adelie</td>\n",
       "      <td>Torgersen</td>\n",
       "      <td>40.3</td>\n",
       "      <td>18.0</td>\n",
       "      <td>195.0</td>\n",
       "      <td>3250.0</td>\n",
       "      <td>FEMALE</td>\n",
       "    </tr>\n",
       "    <tr>\n",
       "      <th>3</th>\n",
       "      <td>Adelie</td>\n",
       "      <td>Torgersen</td>\n",
       "      <td>NaN</td>\n",
       "      <td>NaN</td>\n",
       "      <td>NaN</td>\n",
       "      <td>NaN</td>\n",
       "      <td>NaN</td>\n",
       "    </tr>\n",
       "    <tr>\n",
       "      <th>4</th>\n",
       "      <td>Adelie</td>\n",
       "      <td>Torgersen</td>\n",
       "      <td>36.7</td>\n",
       "      <td>19.3</td>\n",
       "      <td>193.0</td>\n",
       "      <td>3450.0</td>\n",
       "      <td>FEMALE</td>\n",
       "    </tr>\n",
       "    <tr>\n",
       "      <th>...</th>\n",
       "      <td>...</td>\n",
       "      <td>...</td>\n",
       "      <td>...</td>\n",
       "      <td>...</td>\n",
       "      <td>...</td>\n",
       "      <td>...</td>\n",
       "      <td>...</td>\n",
       "    </tr>\n",
       "    <tr>\n",
       "      <th>339</th>\n",
       "      <td>Gentoo</td>\n",
       "      <td>Biscoe</td>\n",
       "      <td>NaN</td>\n",
       "      <td>NaN</td>\n",
       "      <td>NaN</td>\n",
       "      <td>NaN</td>\n",
       "      <td>NaN</td>\n",
       "    </tr>\n",
       "    <tr>\n",
       "      <th>340</th>\n",
       "      <td>Gentoo</td>\n",
       "      <td>Biscoe</td>\n",
       "      <td>46.8</td>\n",
       "      <td>14.3</td>\n",
       "      <td>215.0</td>\n",
       "      <td>4850.0</td>\n",
       "      <td>FEMALE</td>\n",
       "    </tr>\n",
       "    <tr>\n",
       "      <th>341</th>\n",
       "      <td>Gentoo</td>\n",
       "      <td>Biscoe</td>\n",
       "      <td>50.4</td>\n",
       "      <td>15.7</td>\n",
       "      <td>222.0</td>\n",
       "      <td>5750.0</td>\n",
       "      <td>MALE</td>\n",
       "    </tr>\n",
       "    <tr>\n",
       "      <th>342</th>\n",
       "      <td>Gentoo</td>\n",
       "      <td>Biscoe</td>\n",
       "      <td>45.2</td>\n",
       "      <td>14.8</td>\n",
       "      <td>212.0</td>\n",
       "      <td>5200.0</td>\n",
       "      <td>FEMALE</td>\n",
       "    </tr>\n",
       "    <tr>\n",
       "      <th>343</th>\n",
       "      <td>Gentoo</td>\n",
       "      <td>Biscoe</td>\n",
       "      <td>49.9</td>\n",
       "      <td>16.1</td>\n",
       "      <td>213.0</td>\n",
       "      <td>5400.0</td>\n",
       "      <td>MALE</td>\n",
       "    </tr>\n",
       "  </tbody>\n",
       "</table>\n",
       "<p>344 rows × 7 columns</p>\n",
       "</div>"
      ]
     },
     "execution_count": 5,
     "metadata": {},
     "output_type": "execute_result"
    }
   ],
   "execution_count": 5
  },
  {
   "cell_type": "code",
   "source": [
    "#Summary statistics of the data frame:\n",
    "penguin_df.describe().plot(kind=\"line\",subplots=True,layout=(2,2))"
   ],
   "metadata": {
    "colab": {
     "base_uri": "https://localhost:8080/",
     "height": 300
    },
    "id": "t4H-uY_y3LIv",
    "outputId": "67e63bbe-7f0b-495c-ffcd-cb7663719743",
    "ExecuteTime": {
     "end_time": "2025-03-22T06:40:47.028904Z",
     "start_time": "2025-03-22T06:40:46.362958Z"
    }
   },
   "outputs": [
    {
     "data": {
      "text/plain": [
       "array([[<Axes: >, <Axes: >],\n",
       "       [<Axes: >, <Axes: >]], dtype=object)"
      ]
     },
     "execution_count": 8,
     "metadata": {},
     "output_type": "execute_result"
    },
    {
     "data": {
      "text/plain": [
       "<Figure size 640x480 with 4 Axes>"
      ],
      "image/png": "[encoded data removed]"
     },
     "metadata": {},
     "output_type": "display_data"
    }
   ],
   "execution_count": 8
  },
  {
   "cell_type": "code",
   "source": [
    "print(penguin_df.info())"
   ],
   "metadata": {
    "colab": {
     "base_uri": "https://localhost:8080/"
    },
    "id": "5Qv0drH_8cDi",
    "outputId": "15b2e42e-3147-4c69-9fa9-7dd63d8c0faa",
    "ExecuteTime": {
     "end_time": "2025-03-13T08:14:01.365108Z",
     "start_time": "2025-03-13T08:14:01.338960Z"
    }
   },
   "outputs": [
    {
     "name": "stdout",
     "output_type": "stream",
     "text": [
      "<class 'pandas.core.frame.DataFrame'>\n",
      "RangeIndex: 344 entries, 0 to 343\n",
      "Data columns (total 7 columns):\n",
      " #   Column             Non-Null Count  Dtype  \n",
      "---  ------             --------------  -----  \n",
      " 0   species            344 non-null    object \n",
      " 1   island             344 non-null    object \n",
      " 2   bill_length_mm     342 non-null    float64\n",
      " 3   bill_depth_mm      342 non-null    float64\n",
      " 4   flipper_length_mm  342 non-null    float64\n",
      " 5   body_mass_g        342 non-null    float64\n",
      " 6   sex                333 non-null    object \n",
      "dtypes: float64(4), object(3)\n",
      "memory usage: 18.9+ KB\n",
      "None\n"
     ]
    }
   ],
   "execution_count": 25
  },
  {
   "cell_type": "code",
   "source": [
    "penguin_df.describe()"
   ],
   "metadata": {
    "colab": {
     "base_uri": "https://localhost:8080/",
     "height": 300
    },
    "id": "gKIxLhm892tu",
    "outputId": "915781b8-cf0b-457f-97c7-b0075b603c85",
    "ExecuteTime": {
     "end_time": "2025-03-13T08:14:01.640434Z",
     "start_time": "2025-03-13T08:14:01.589708Z"
    }
   },
   "outputs": [
    {
     "data": {
      "text/plain": [
       "       bill_length_mm  bill_depth_mm  flipper_length_mm  body_mass_g\n",
       "count      342.000000     342.000000         342.000000   342.000000\n",
       "mean        43.921930      17.151170         200.915205  4201.754386\n",
       "std          5.459584       1.974793          14.061714   801.954536\n",
       "min         32.100000      13.100000         172.000000  2700.000000\n",
       "25%         39.225000      15.600000         190.000000  3550.000000\n",
       "50%         44.450000      17.300000         197.000000  4050.000000\n",
       "75%         48.500000      18.700000         213.000000  4750.000000\n",
       "max         59.600000      21.500000         231.000000  6300.000000"
      ],
      "text/html": [
       "<div>\n",
       "<style scoped>\n",
       "    .dataframe tbody tr th:only-of-type {\n",
       "        vertical-align: middle;\n",
       "    }\n",
       "\n",
       "    .dataframe tbody tr th {\n",
       "        vertical-align: top;\n",
       "    }\n",
       "\n",
       "    .dataframe thead th {\n",
       "        text-align: right;\n",
       "    }\n",
       "</style>\n",
       "<table border=\"1\" class=\"dataframe\">\n",
       "  <thead>\n",
       "    <tr style=\"text-align: right;\">\n",
       "      <th></th>\n",
       "      <th>bill_length_mm</th>\n",
       "      <th>bill_depth_mm</th>\n",
       "      <th>flipper_length_mm</th>\n",
       "      <th>body_mass_g</th>\n",
       "    </tr>\n",
       "  </thead>\n",
       "  <tbody>\n",
       "    <tr>\n",
       "      <th>count</th>\n",
       "      <td>342.000000</td>\n",
       "      <td>342.000000</td>\n",
       "      <td>342.000000</td>\n",
       "      <td>342.000000</td>\n",
       "    </tr>\n",
       "    <tr>\n",
       "      <th>mean</th>\n",
       "      <td>43.921930</td>\n",
       "      <td>17.151170</td>\n",
       "      <td>200.915205</td>\n",
       "      <td>4201.754386</td>\n",
       "    </tr>\n",
       "    <tr>\n",
       "      <th>std</th>\n",
       "      <td>5.459584</td>\n",
       "      <td>1.974793</td>\n",
       "      <td>14.061714</td>\n",
       "      <td>801.954536</td>\n",
       "    </tr>\n",
       "    <tr>\n",
       "      <th>min</th>\n",
       "      <td>32.100000</td>\n",
       "      <td>13.100000</td>\n",
       "      <td>172.000000</td>\n",
       "      <td>2700.000000</td>\n",
       "    </tr>\n",
       "    <tr>\n",
       "      <th>25%</th>\n",
       "      <td>39.225000</td>\n",
       "      <td>15.600000</td>\n",
       "      <td>190.000000</td>\n",
       "      <td>3550.000000</td>\n",
       "    </tr>\n",
       "    <tr>\n",
       "      <th>50%</th>\n",
       "      <td>44.450000</td>\n",
       "      <td>17.300000</td>\n",
       "      <td>197.000000</td>\n",
       "      <td>4050.000000</td>\n",
       "    </tr>\n",
       "    <tr>\n",
       "      <th>75%</th>\n",
       "      <td>48.500000</td>\n",
       "      <td>18.700000</td>\n",
       "      <td>213.000000</td>\n",
       "      <td>4750.000000</td>\n",
       "    </tr>\n",
       "    <tr>\n",
       "      <th>max</th>\n",
       "      <td>59.600000</td>\n",
       "      <td>21.500000</td>\n",
       "      <td>231.000000</td>\n",
       "      <td>6300.000000</td>\n",
       "    </tr>\n",
       "  </tbody>\n",
       "</table>\n",
       "</div>"
      ]
     },
     "execution_count": 26,
     "metadata": {},
     "output_type": "execute_result"
    }
   ],
   "execution_count": 26
  },
  {
   "cell_type": "code",
   "source": [
    "print(penguin_df.info())"
   ],
   "metadata": {
    "colab": {
     "base_uri": "https://localhost:8080/"
    },
    "id": "3k6Hi8fy-Byk",
    "outputId": "5e0edf63-292e-4f34-a7b7-f5f8e260c94b",
    "ExecuteTime": {
     "end_time": "2025-03-13T08:14:01.907685Z",
     "start_time": "2025-03-13T08:14:01.882207Z"
    }
   },
   "outputs": [
    {
     "name": "stdout",
     "output_type": "stream",
     "text": [
      "<class 'pandas.core.frame.DataFrame'>\n",
      "RangeIndex: 344 entries, 0 to 343\n",
      "Data columns (total 7 columns):\n",
      " #   Column             Non-Null Count  Dtype  \n",
      "---  ------             --------------  -----  \n",
      " 0   species            344 non-null    object \n",
      " 1   island             344 non-null    object \n",
      " 2   bill_length_mm     342 non-null    float64\n",
      " 3   bill_depth_mm      342 non-null    float64\n",
      " 4   flipper_length_mm  342 non-null    float64\n",
      " 5   body_mass_g        342 non-null    float64\n",
      " 6   sex                333 non-null    object \n",
      "dtypes: float64(4), object(3)\n",
      "memory usage: 18.9+ KB\n",
      "None\n"
     ]
    }
   ],
   "execution_count": 27
  },
  {
   "cell_type": "code",
   "source": [
    "#check if there is any missing values.\n",
    "#penguin_df.isnull().values.any()\n",
    "if penguin_df.isnull().values.any():\n",
    "    print(\"There is missing values\")\n",
    "else:\n",
    "    print(\"There is no missing values\")"
   ],
   "metadata": {
    "colab": {
     "base_uri": "https://localhost:8080/"
    },
    "id": "tmjH8xqZ-J5_",
    "outputId": "63eff5ef-3d93-4e07-eb53-b785f43a259b",
    "ExecuteTime": {
     "end_time": "2025-03-13T08:14:02.104341Z",
     "start_time": "2025-03-13T08:14:02.086949Z"
    }
   },
   "outputs": [
    {
     "name": "stdout",
     "output_type": "stream",
     "text": [
      "There is missing values\n"
     ]
    }
   ],
   "execution_count": 28
  },
  {
   "metadata": {
    "ExecuteTime": {
     "end_time": "2025-03-13T08:14:02.317925Z",
     "start_time": "2025-03-13T08:14:02.292127Z"
    }
   },
   "cell_type": "code",
   "source": "penguin_df.isnull().sum()",
   "outputs": [
    {
     "data": {
      "text/plain": [
       "species               0\n",
       "island                0\n",
       "bill_length_mm        2\n",
       "bill_depth_mm         2\n",
       "flipper_length_mm     2\n",
       "body_mass_g           2\n",
       "sex                  11\n",
       "dtype: int64"
      ]
     },
     "execution_count": 29,
     "metadata": {},
     "output_type": "execute_result"
    }
   ],
   "execution_count": 29
  },
  {
   "cell_type": "code",
   "source": [
    "#Check how many missing values.\n",
    "penguin_df.isnull().sum().sum()"
   ],
   "metadata": {
    "colab": {
     "base_uri": "https://localhost:8080/"
    },
    "id": "zxD1Juhi-gNm",
    "outputId": "9c25b870-254f-43e1-9b1f-23540bf480d4",
    "ExecuteTime": {
     "end_time": "2025-03-13T08:14:02.511026Z",
     "start_time": "2025-03-13T08:14:02.497089Z"
    }
   },
   "outputs": [
    {
     "data": {
      "text/plain": [
       "19"
      ]
     },
     "execution_count": 30,
     "metadata": {},
     "output_type": "execute_result"
    }
   ],
   "execution_count": 30
  },
  {
   "cell_type": "code",
   "source": [
    "#Check missing by variable\n",
    "penguin_df.isnull().sum()"
   ],
   "metadata": {
    "colab": {
     "base_uri": "https://localhost:8080/",
     "height": 303
    },
    "id": "G6lNOplN-miF",
    "outputId": "8810582b-9a4c-4ae8-e951-69d5a924b068",
    "ExecuteTime": {
     "end_time": "2025-03-13T08:14:02.716398Z",
     "start_time": "2025-03-13T08:14:02.701655Z"
    }
   },
   "outputs": [
    {
     "data": {
      "text/plain": [
       "species               0\n",
       "island                0\n",
       "bill_length_mm        2\n",
       "bill_depth_mm         2\n",
       "flipper_length_mm     2\n",
       "body_mass_g           2\n",
       "sex                  11\n",
       "dtype: int64"
      ]
     },
     "execution_count": 31,
     "metadata": {},
     "output_type": "execute_result"
    }
   ],
   "execution_count": 31
  },
  {
   "cell_type": "code",
   "source": [
    "#drop missing values\n",
    "#penguin_clean_df=penguin_df.dropna()"
   ],
   "metadata": {
    "id": "30OhQMFsAhfA",
    "ExecuteTime": {
     "end_time": "2025-03-13T08:14:02.874003Z",
     "start_time": "2025-03-13T08:14:02.863859Z"
    }
   },
   "outputs": [],
   "execution_count": 32
  },
  {
   "cell_type": "code",
   "source": [
    "print(\"Print values of rows 10 to 29 of the column 'bill_length_mm':\")\n",
    "print(penguin_df.loc[10:29, 'bill_length_mm'])"
   ],
   "metadata": {
    "colab": {
     "base_uri": "https://localhost:8080/"
    },
    "id": "vYIQTI8DAszV",
    "outputId": "538562fa-7ee7-45b7-bf81-e444db15ac3a",
    "ExecuteTime": {
     "end_time": "2025-03-13T08:14:03.036183Z",
     "start_time": "2025-03-13T08:14:03.021035Z"
    }
   },
   "outputs": [
    {
     "name": "stdout",
     "output_type": "stream",
     "text": [
      "Print values of rows 10 to 29 of the column 'bill_length_mm':\n",
      "10    37.8\n",
      "11    37.8\n",
      "12    41.1\n",
      "13    38.6\n",
      "14    34.6\n",
      "15    36.6\n",
      "16    38.7\n",
      "17    42.5\n",
      "18    34.4\n",
      "19    46.0\n",
      "20    37.8\n",
      "21    37.7\n",
      "22    35.9\n",
      "23    38.2\n",
      "24    38.8\n",
      "25    35.3\n",
      "26    40.6\n",
      "27    40.5\n",
      "28    37.9\n",
      "29    40.5\n",
      "Name: bill_length_mm, dtype: float64\n"
     ]
    }
   ],
   "execution_count": 33
  },
  {
   "cell_type": "code",
   "source": [
    "print(penguin_df['bill_length_mm'].iloc[10:30])"
   ],
   "metadata": {
    "colab": {
     "base_uri": "https://localhost:8080/"
    },
    "id": "i4jfB2A-CWfB",
    "outputId": "2cdb6873-6d98-4afc-fafc-b48b66771002",
    "ExecuteTime": {
     "end_time": "2025-03-13T08:14:03.180060Z",
     "start_time": "2025-03-13T08:14:03.168371Z"
    }
   },
   "outputs": [
    {
     "name": "stdout",
     "output_type": "stream",
     "text": [
      "10    37.8\n",
      "11    37.8\n",
      "12    41.1\n",
      "13    38.6\n",
      "14    34.6\n",
      "15    36.6\n",
      "16    38.7\n",
      "17    42.5\n",
      "18    34.4\n",
      "19    46.0\n",
      "20    37.8\n",
      "21    37.7\n",
      "22    35.9\n",
      "23    38.2\n",
      "24    38.8\n",
      "25    35.3\n",
      "26    40.6\n",
      "27    40.5\n",
      "28    37.9\n",
      "29    40.5\n",
      "Name: bill_length_mm, dtype: float64\n"
     ]
    }
   ],
   "execution_count": 34
  },
  {
   "cell_type": "code",
   "source": [
    "penguin_df.loc[10:29, 'bill_length_mm'] = np.nan"
   ],
   "metadata": {
    "id": "4dnENZN3CzOj",
    "ExecuteTime": {
     "end_time": "2025-03-13T08:14:03.262451Z",
     "start_time": "2025-03-13T08:14:03.252932Z"
    }
   },
   "outputs": [],
   "execution_count": 35
  },
  {
   "cell_type": "code",
   "source": [
    "penguin_df.iloc[9:33]"
   ],
   "metadata": {
    "colab": {
     "base_uri": "https://localhost:8080/",
     "height": 802
    },
    "id": "4VMufEDoDeXS",
    "outputId": "38ad680b-7d79-46f8-bb65-95cadf859759",
    "ExecuteTime": {
     "end_time": "2025-03-13T08:14:03.362312Z",
     "start_time": "2025-03-13T08:14:03.312441Z"
    }
   },
   "outputs": [
    {
     "data": {
      "text/plain": [
       "   species     island  bill_length_mm  bill_depth_mm  flipper_length_mm  \\\n",
       "9   Adelie  Torgersen            42.0           20.2              190.0   \n",
       "10  Adelie  Torgersen             NaN           17.1              186.0   \n",
       "11  Adelie  Torgersen             NaN           17.3              180.0   \n",
       "12  Adelie  Torgersen             NaN           17.6              182.0   \n",
       "13  Adelie  Torgersen             NaN           21.2              191.0   \n",
       "14  Adelie  Torgersen             NaN           21.1              198.0   \n",
       "15  Adelie  Torgersen             NaN           17.8              185.0   \n",
       "16  Adelie  Torgersen             NaN           19.0              195.0   \n",
       "17  Adelie  Torgersen             NaN           20.7              197.0   \n",
       "18  Adelie  Torgersen             NaN           18.4              184.0   \n",
       "19  Adelie  Torgersen             NaN           21.5              194.0   \n",
       "20  Adelie     Biscoe             NaN           18.3              174.0   \n",
       "21  Adelie     Biscoe             NaN           18.7              180.0   \n",
       "22  Adelie     Biscoe             NaN           19.2              189.0   \n",
       "23  Adelie     Biscoe             NaN           18.1              185.0   \n",
       "24  Adelie     Biscoe             NaN           17.2              180.0   \n",
       "25  Adelie     Biscoe             NaN           18.9              187.0   \n",
       "26  Adelie     Biscoe             NaN           18.6              183.0   \n",
       "27  Adelie     Biscoe             NaN           17.9              187.0   \n",
       "28  Adelie     Biscoe             NaN           18.6              172.0   \n",
       "29  Adelie     Biscoe             NaN           18.9              180.0   \n",
       "30  Adelie      Dream            39.5           16.7              178.0   \n",
       "31  Adelie      Dream            37.2           18.1              178.0   \n",
       "32  Adelie      Dream            39.5           17.8              188.0   \n",
       "\n",
       "    body_mass_g     sex  \n",
       "9        4250.0     NaN  \n",
       "10       3300.0     NaN  \n",
       "11       3700.0     NaN  \n",
       "12       3200.0  FEMALE  \n",
       "13       3800.0    MALE  \n",
       "14       4400.0    MALE  \n",
       "15       3700.0  FEMALE  \n",
       "16       3450.0  FEMALE  \n",
       "17       4500.0    MALE  \n",
       "18       3325.0  FEMALE  \n",
       "19       4200.0    MALE  \n",
       "20       3400.0  FEMALE  \n",
       "21       3600.0    MALE  \n",
       "22       3800.0  FEMALE  \n",
       "23       3950.0    MALE  \n",
       "24       3800.0    MALE  \n",
       "25       3800.0  FEMALE  \n",
       "26       3550.0    MALE  \n",
       "27       3200.0  FEMALE  \n",
       "28       3150.0  FEMALE  \n",
       "29       3950.0    MALE  \n",
       "30       3250.0  FEMALE  \n",
       "31       3900.0    MALE  \n",
       "32       3300.0  FEMALE  "
      ],
      "text/html": [
       "<div>\n",
       "<style scoped>\n",
       "    .dataframe tbody tr th:only-of-type {\n",
       "        vertical-align: middle;\n",
       "    }\n",
       "\n",
       "    .dataframe tbody tr th {\n",
       "        vertical-align: top;\n",
       "    }\n",
       "\n",
       "    .dataframe thead th {\n",
       "        text-align: right;\n",
       "    }\n",
       "</style>\n",
       "<table border=\"1\" class=\"dataframe\">\n",
       "  <thead>\n",
       "    <tr style=\"text-align: right;\">\n",
       "      <th></th>\n",
       "      <th>species</th>\n",
       "      <th>island</th>\n",
       "      <th>bill_length_mm</th>\n",
       "      <th>bill_depth_mm</th>\n",
       "      <th>flipper_length_mm</th>\n",
       "      <th>body_mass_g</th>\n",
       "      <th>sex</th>\n",
       "    </tr>\n",
       "  </thead>\n",
       "  <tbody>\n",
       "    <tr>\n",
       "      <th>9</th>\n",
       "      <td>Adelie</td>\n",
       "      <td>Torgersen</td>\n",
       "      <td>42.0</td>\n",
       "      <td>20.2</td>\n",
       "      <td>190.0</td>\n",
       "      <td>4250.0</td>\n",
       "      <td>NaN</td>\n",
       "    </tr>\n",
       "    <tr>\n",
       "      <th>10</th>\n",
       "      <td>Adelie</td>\n",
       "      <td>Torgersen</td>\n",
       "      <td>NaN</td>\n",
       "      <td>17.1</td>\n",
       "      <td>186.0</td>\n",
       "      <td>3300.0</td>\n",
       "      <td>NaN</td>\n",
       "    </tr>\n",
       "    <tr>\n",
       "      <th>11</th>\n",
       "      <td>Adelie</td>\n",
       "      <td>Torgersen</td>\n",
       "      <td>NaN</td>\n",
       "      <td>17.3</td>\n",
       "      <td>180.0</td>\n",
       "      <td>3700.0</td>\n",
       "      <td>NaN</td>\n",
       "    </tr>\n",
       "    <tr>\n",
       "      <th>12</th>\n",
       "      <td>Adelie</td>\n",
       "      <td>Torgersen</td>\n",
       "      <td>NaN</td>\n",
       "      <td>17.6</td>\n",
       "      <td>182.0</td>\n",
       "      <td>3200.0</td>\n",
       "      <td>FEMALE</td>\n",
       "    </tr>\n",
       "    <tr>\n",
       "      <th>13</th>\n",
       "      <td>Adelie</td>\n",
       "      <td>Torgersen</td>\n",
       "      <td>NaN</td>\n",
       "      <td>21.2</td>\n",
       "      <td>191.0</td>\n",
       "      <td>3800.0</td>\n",
       "      <td>MALE</td>\n",
       "    </tr>\n",
       "    <tr>\n",
       "      <th>14</th>\n",
       "      <td>Adelie</td>\n",
       "      <td>Torgersen</td>\n",
       "      <td>NaN</td>\n",
       "      <td>21.1</td>\n",
       "      <td>198.0</td>\n",
       "      <td>4400.0</td>\n",
       "      <td>MALE</td>\n",
       "    </tr>\n",
       "    <tr>\n",
       "      <th>15</th>\n",
       "      <td>Adelie</td>\n",
       "      <td>Torgersen</td>\n",
       "      <td>NaN</td>\n",
       "      <td>17.8</td>\n",
       "      <td>185.0</td>\n",
       "      <td>3700.0</td>\n",
       "      <td>FEMALE</td>\n",
       "    </tr>\n",
       "    <tr>\n",
       "      <th>16</th>\n",
       "      <td>Adelie</td>\n",
       "      <td>Torgersen</td>\n",
       "      <td>NaN</td>\n",
       "      <td>19.0</td>\n",
       "      <td>195.0</td>\n",
       "      <td>3450.0</td>\n",
       "      <td>FEMALE</td>\n",
       "    </tr>\n",
       "    <tr>\n",
       "      <th>17</th>\n",
       "      <td>Adelie</td>\n",
       "      <td>Torgersen</td>\n",
       "      <td>NaN</td>\n",
       "      <td>20.7</td>\n",
       "      <td>197.0</td>\n",
       "      <td>4500.0</td>\n",
       "      <td>MALE</td>\n",
       "    </tr>\n",
       "    <tr>\n",
       "      <th>18</th>\n",
       "      <td>Adelie</td>\n",
       "      <td>Torgersen</td>\n",
       "      <td>NaN</td>\n",
       "      <td>18.4</td>\n",
       "      <td>184.0</td>\n",
       "      <td>3325.0</td>\n",
       "      <td>FEMALE</td>\n",
       "    </tr>\n",
       "    <tr>\n",
       "      <th>19</th>\n",
       "      <td>Adelie</td>\n",
       "      <td>Torgersen</td>\n",
       "      <td>NaN</td>\n",
       "      <td>21.5</td>\n",
       "      <td>194.0</td>\n",
       "      <td>4200.0</td>\n",
       "      <td>MALE</td>\n",
       "    </tr>\n",
       "    <tr>\n",
       "      <th>20</th>\n",
       "      <td>Adelie</td>\n",
       "      <td>Biscoe</td>\n",
       "      <td>NaN</td>\n",
       "      <td>18.3</td>\n",
       "      <td>174.0</td>\n",
       "      <td>3400.0</td>\n",
       "      <td>FEMALE</td>\n",
       "    </tr>\n",
       "    <tr>\n",
       "      <th>21</th>\n",
       "      <td>Adelie</td>\n",
       "      <td>Biscoe</td>\n",
       "      <td>NaN</td>\n",
       "      <td>18.7</td>\n",
       "      <td>180.0</td>\n",
       "      <td>3600.0</td>\n",
       "      <td>MALE</td>\n",
       "    </tr>\n",
       "    <tr>\n",
       "      <th>22</th>\n",
       "      <td>Adelie</td>\n",
       "      <td>Biscoe</td>\n",
       "      <td>NaN</td>\n",
       "      <td>19.2</td>\n",
       "      <td>189.0</td>\n",
       "      <td>3800.0</td>\n",
       "      <td>FEMALE</td>\n",
       "    </tr>\n",
       "    <tr>\n",
       "      <th>23</th>\n",
       "      <td>Adelie</td>\n",
       "      <td>Biscoe</td>\n",
       "      <td>NaN</td>\n",
       "      <td>18.1</td>\n",
       "      <td>185.0</td>\n",
       "      <td>3950.0</td>\n",
       "      <td>MALE</td>\n",
       "    </tr>\n",
       "    <tr>\n",
       "      <th>24</th>\n",
       "      <td>Adelie</td>\n",
       "      <td>Biscoe</td>\n",
       "      <td>NaN</td>\n",
       "      <td>17.2</td>\n",
       "      <td>180.0</td>\n",
       "      <td>3800.0</td>\n",
       "      <td>MALE</td>\n",
       "    </tr>\n",
       "    <tr>\n",
       "      <th>25</th>\n",
       "      <td>Adelie</td>\n",
       "      <td>Biscoe</td>\n",
       "      <td>NaN</td>\n",
       "      <td>18.9</td>\n",
       "      <td>187.0</td>\n",
       "      <td>3800.0</td>\n",
       "      <td>FEMALE</td>\n",
       "    </tr>\n",
       "    <tr>\n",
       "      <th>26</th>\n",
       "      <td>Adelie</td>\n",
       "      <td>Biscoe</td>\n",
       "      <td>NaN</td>\n",
       "      <td>18.6</td>\n",
       "      <td>183.0</td>\n",
       "      <td>3550.0</td>\n",
       "      <td>MALE</td>\n",
       "    </tr>\n",
       "    <tr>\n",
       "      <th>27</th>\n",
       "      <td>Adelie</td>\n",
       "      <td>Biscoe</td>\n",
       "      <td>NaN</td>\n",
       "      <td>17.9</td>\n",
       "      <td>187.0</td>\n",
       "      <td>3200.0</td>\n",
       "      <td>FEMALE</td>\n",
       "    </tr>\n",
       "    <tr>\n",
       "      <th>28</th>\n",
       "      <td>Adelie</td>\n",
       "      <td>Biscoe</td>\n",
       "      <td>NaN</td>\n",
       "      <td>18.6</td>\n",
       "      <td>172.0</td>\n",
       "      <td>3150.0</td>\n",
       "      <td>FEMALE</td>\n",
       "    </tr>\n",
       "    <tr>\n",
       "      <th>29</th>\n",
       "      <td>Adelie</td>\n",
       "      <td>Biscoe</td>\n",
       "      <td>NaN</td>\n",
       "      <td>18.9</td>\n",
       "      <td>180.0</td>\n",
       "      <td>3950.0</td>\n",
       "      <td>MALE</td>\n",
       "    </tr>\n",
       "    <tr>\n",
       "      <th>30</th>\n",
       "      <td>Adelie</td>\n",
       "      <td>Dream</td>\n",
       "      <td>39.5</td>\n",
       "      <td>16.7</td>\n",
       "      <td>178.0</td>\n",
       "      <td>3250.0</td>\n",
       "      <td>FEMALE</td>\n",
       "    </tr>\n",
       "    <tr>\n",
       "      <th>31</th>\n",
       "      <td>Adelie</td>\n",
       "      <td>Dream</td>\n",
       "      <td>37.2</td>\n",
       "      <td>18.1</td>\n",
       "      <td>178.0</td>\n",
       "      <td>3900.0</td>\n",
       "      <td>MALE</td>\n",
       "    </tr>\n",
       "    <tr>\n",
       "      <th>32</th>\n",
       "      <td>Adelie</td>\n",
       "      <td>Dream</td>\n",
       "      <td>39.5</td>\n",
       "      <td>17.8</td>\n",
       "      <td>188.0</td>\n",
       "      <td>3300.0</td>\n",
       "      <td>FEMALE</td>\n",
       "    </tr>\n",
       "  </tbody>\n",
       "</table>\n",
       "</div>"
      ]
     },
     "execution_count": 36,
     "metadata": {},
     "output_type": "execute_result"
    }
   ],
   "execution_count": 36
  },
  {
   "cell_type": "code",
   "source": [
    "penguin_df.isnull().sum().sum()"
   ],
   "metadata": {
    "colab": {
     "base_uri": "https://localhost:8080/"
    },
    "id": "92mkDV2NF3D3",
    "outputId": "78cfceaa-a9ce-44eb-bb45-b51a9372ad70",
    "ExecuteTime": {
     "end_time": "2025-03-13T08:14:03.471295Z",
     "start_time": "2025-03-13T08:14:03.458215Z"
    }
   },
   "outputs": [
    {
     "data": {
      "text/plain": [
       "39"
      ]
     },
     "execution_count": 37,
     "metadata": {},
     "output_type": "execute_result"
    }
   ],
   "execution_count": 37
  },
  {
   "cell_type": "code",
   "source": [
    "#penguin_df.loc[10:29, 'bill_length_mm'] = 10\n",
    "penguin_df.fillna(10, inplace=True)"
   ],
   "metadata": {
    "id": "oLUvyVadFG2F",
    "ExecuteTime": {
     "end_time": "2025-03-13T08:14:03.686682Z",
     "start_time": "2025-03-13T08:14:03.674734Z"
    }
   },
   "outputs": [],
   "execution_count": 38
  },
  {
   "cell_type": "code",
   "source": [
    "penguin_df.iloc[10:30]"
   ],
   "metadata": {
    "colab": {
     "base_uri": "https://localhost:8080/",
     "height": 677
    },
    "id": "hJMWhfShFTvh",
    "outputId": "f0782bf3-5fdb-4175-e92f-5e8218277a82",
    "ExecuteTime": {
     "end_time": "2025-03-13T08:14:03.830676Z",
     "start_time": "2025-03-13T08:14:03.795742Z"
    }
   },
   "outputs": [
    {
     "data": {
      "text/plain": [
       "   species     island  bill_length_mm  bill_depth_mm  flipper_length_mm  \\\n",
       "10  Adelie  Torgersen            10.0           17.1              186.0   \n",
       "11  Adelie  Torgersen            10.0           17.3              180.0   \n",
       "12  Adelie  Torgersen            10.0           17.6              182.0   \n",
       "13  Adelie  Torgersen            10.0           21.2              191.0   \n",
       "14  Adelie  Torgersen            10.0           21.1              198.0   \n",
       "15  Adelie  Torgersen            10.0           17.8              185.0   \n",
       "16  Adelie  Torgersen            10.0           19.0              195.0   \n",
       "17  Adelie  Torgersen            10.0           20.7              197.0   \n",
       "18  Adelie  Torgersen            10.0           18.4              184.0   \n",
       "19  Adelie  Torgersen            10.0           21.5              194.0   \n",
       "20  Adelie     Biscoe            10.0           18.3              174.0   \n",
       "21  Adelie     Biscoe            10.0           18.7              180.0   \n",
       "22  Adelie     Biscoe            10.0           19.2              189.0   \n",
       "23  Adelie     Biscoe            10.0           18.1              185.0   \n",
       "24  Adelie     Biscoe            10.0           17.2              180.0   \n",
       "25  Adelie     Biscoe            10.0           18.9              187.0   \n",
       "26  Adelie     Biscoe            10.0           18.6              183.0   \n",
       "27  Adelie     Biscoe            10.0           17.9              187.0   \n",
       "28  Adelie     Biscoe            10.0           18.6              172.0   \n",
       "29  Adelie     Biscoe            10.0           18.9              180.0   \n",
       "\n",
       "    body_mass_g     sex  \n",
       "10       3300.0      10  \n",
       "11       3700.0      10  \n",
       "12       3200.0  FEMALE  \n",
       "13       3800.0    MALE  \n",
       "14       4400.0    MALE  \n",
       "15       3700.0  FEMALE  \n",
       "16       3450.0  FEMALE  \n",
       "17       4500.0    MALE  \n",
       "18       3325.0  FEMALE  \n",
       "19       4200.0    MALE  \n",
       "20       3400.0  FEMALE  \n",
       "21       3600.0    MALE  \n",
       "22       3800.0  FEMALE  \n",
       "23       3950.0    MALE  \n",
       "24       3800.0    MALE  \n",
       "25       3800.0  FEMALE  \n",
       "26       3550.0    MALE  \n",
       "27       3200.0  FEMALE  \n",
       "28       3150.0  FEMALE  \n",
       "29       3950.0    MALE  "
      ],
      "text/html": [
       "<div>\n",
       "<style scoped>\n",
       "    .dataframe tbody tr th:only-of-type {\n",
       "        vertical-align: middle;\n",
       "    }\n",
       "\n",
       "    .dataframe tbody tr th {\n",
       "        vertical-align: top;\n",
       "    }\n",
       "\n",
       "    .dataframe thead th {\n",
       "        text-align: right;\n",
       "    }\n",
       "</style>\n",
       "<table border=\"1\" class=\"dataframe\">\n",
       "  <thead>\n",
       "    <tr style=\"text-align: right;\">\n",
       "      <th></th>\n",
       "      <th>species</th>\n",
       "      <th>island</th>\n",
       "      <th>bill_length_mm</th>\n",
       "      <th>bill_depth_mm</th>\n",
       "      <th>flipper_length_mm</th>\n",
       "      <th>body_mass_g</th>\n",
       "      <th>sex</th>\n",
       "    </tr>\n",
       "  </thead>\n",
       "  <tbody>\n",
       "    <tr>\n",
       "      <th>10</th>\n",
       "      <td>Adelie</td>\n",
       "      <td>Torgersen</td>\n",
       "      <td>10.0</td>\n",
       "      <td>17.1</td>\n",
       "      <td>186.0</td>\n",
       "      <td>3300.0</td>\n",
       "      <td>10</td>\n",
       "    </tr>\n",
       "    <tr>\n",
       "      <th>11</th>\n",
       "      <td>Adelie</td>\n",
       "      <td>Torgersen</td>\n",
       "      <td>10.0</td>\n",
       "      <td>17.3</td>\n",
       "      <td>180.0</td>\n",
       "      <td>3700.0</td>\n",
       "      <td>10</td>\n",
       "    </tr>\n",
       "    <tr>\n",
       "      <th>12</th>\n",
       "      <td>Adelie</td>\n",
       "      <td>Torgersen</td>\n",
       "      <td>10.0</td>\n",
       "      <td>17.6</td>\n",
       "      <td>182.0</td>\n",
       "      <td>3200.0</td>\n",
       "      <td>FEMALE</td>\n",
       "    </tr>\n",
       "    <tr>\n",
       "      <th>13</th>\n",
       "      <td>Adelie</td>\n",
       "      <td>Torgersen</td>\n",
       "      <td>10.0</td>\n",
       "      <td>21.2</td>\n",
       "      <td>191.0</td>\n",
       "      <td>3800.0</td>\n",
       "      <td>MALE</td>\n",
       "    </tr>\n",
       "    <tr>\n",
       "      <th>14</th>\n",
       "      <td>Adelie</td>\n",
       "      <td>Torgersen</td>\n",
       "      <td>10.0</td>\n",
       "      <td>21.1</td>\n",
       "      <td>198.0</td>\n",
       "      <td>4400.0</td>\n",
       "      <td>MALE</td>\n",
       "    </tr>\n",
       "    <tr>\n",
       "      <th>15</th>\n",
       "      <td>Adelie</td>\n",
       "      <td>Torgersen</td>\n",
       "      <td>10.0</td>\n",
       "      <td>17.8</td>\n",
       "      <td>185.0</td>\n",
       "      <td>3700.0</td>\n",
       "      <td>FEMALE</td>\n",
       "    </tr>\n",
       "    <tr>\n",
       "      <th>16</th>\n",
       "      <td>Adelie</td>\n",
       "      <td>Torgersen</td>\n",
       "      <td>10.0</td>\n",
       "      <td>19.0</td>\n",
       "      <td>195.0</td>\n",
       "      <td>3450.0</td>\n",
       "      <td>FEMALE</td>\n",
       "    </tr>\n",
       "    <tr>\n",
       "      <th>17</th>\n",
       "      <td>Adelie</td>\n",
       "      <td>Torgersen</td>\n",
       "      <td>10.0</td>\n",
       "      <td>20.7</td>\n",
       "      <td>197.0</td>\n",
       "      <td>4500.0</td>\n",
       "      <td>MALE</td>\n",
       "    </tr>\n",
       "    <tr>\n",
       "      <th>18</th>\n",
       "      <td>Adelie</td>\n",
       "      <td>Torgersen</td>\n",
       "      <td>10.0</td>\n",
       "      <td>18.4</td>\n",
       "      <td>184.0</td>\n",
       "      <td>3325.0</td>\n",
       "      <td>FEMALE</td>\n",
       "    </tr>\n",
       "    <tr>\n",
       "      <th>19</th>\n",
       "      <td>Adelie</td>\n",
       "      <td>Torgersen</td>\n",
       "      <td>10.0</td>\n",
       "      <td>21.5</td>\n",
       "      <td>194.0</td>\n",
       "      <td>4200.0</td>\n",
       "      <td>MALE</td>\n",
       "    </tr>\n",
       "    <tr>\n",
       "      <th>20</th>\n",
       "      <td>Adelie</td>\n",
       "      <td>Biscoe</td>\n",
       "      <td>10.0</td>\n",
       "      <td>18.3</td>\n",
       "      <td>174.0</td>\n",
       "      <td>3400.0</td>\n",
       "      <td>FEMALE</td>\n",
       "    </tr>\n",
       "    <tr>\n",
       "      <th>21</th>\n",
       "      <td>Adelie</td>\n",
       "      <td>Biscoe</td>\n",
       "      <td>10.0</td>\n",
       "      <td>18.7</td>\n",
       "      <td>180.0</td>\n",
       "      <td>3600.0</td>\n",
       "      <td>MALE</td>\n",
       "    </tr>\n",
       "    <tr>\n",
       "      <th>22</th>\n",
       "      <td>Adelie</td>\n",
       "      <td>Biscoe</td>\n",
       "      <td>10.0</td>\n",
       "      <td>19.2</td>\n",
       "      <td>189.0</td>\n",
       "      <td>3800.0</td>\n",
       "      <td>FEMALE</td>\n",
       "    </tr>\n",
       "    <tr>\n",
       "      <th>23</th>\n",
       "      <td>Adelie</td>\n",
       "      <td>Biscoe</td>\n",
       "      <td>10.0</td>\n",
       "      <td>18.1</td>\n",
       "      <td>185.0</td>\n",
       "      <td>3950.0</td>\n",
       "      <td>MALE</td>\n",
       "    </tr>\n",
       "    <tr>\n",
       "      <th>24</th>\n",
       "      <td>Adelie</td>\n",
       "      <td>Biscoe</td>\n",
       "      <td>10.0</td>\n",
       "      <td>17.2</td>\n",
       "      <td>180.0</td>\n",
       "      <td>3800.0</td>\n",
       "      <td>MALE</td>\n",
       "    </tr>\n",
       "    <tr>\n",
       "      <th>25</th>\n",
       "      <td>Adelie</td>\n",
       "      <td>Biscoe</td>\n",
       "      <td>10.0</td>\n",
       "      <td>18.9</td>\n",
       "      <td>187.0</td>\n",
       "      <td>3800.0</td>\n",
       "      <td>FEMALE</td>\n",
       "    </tr>\n",
       "    <tr>\n",
       "      <th>26</th>\n",
       "      <td>Adelie</td>\n",
       "      <td>Biscoe</td>\n",
       "      <td>10.0</td>\n",
       "      <td>18.6</td>\n",
       "      <td>183.0</td>\n",
       "      <td>3550.0</td>\n",
       "      <td>MALE</td>\n",
       "    </tr>\n",
       "    <tr>\n",
       "      <th>27</th>\n",
       "      <td>Adelie</td>\n",
       "      <td>Biscoe</td>\n",
       "      <td>10.0</td>\n",
       "      <td>17.9</td>\n",
       "      <td>187.0</td>\n",
       "      <td>3200.0</td>\n",
       "      <td>FEMALE</td>\n",
       "    </tr>\n",
       "    <tr>\n",
       "      <th>28</th>\n",
       "      <td>Adelie</td>\n",
       "      <td>Biscoe</td>\n",
       "      <td>10.0</td>\n",
       "      <td>18.6</td>\n",
       "      <td>172.0</td>\n",
       "      <td>3150.0</td>\n",
       "      <td>FEMALE</td>\n",
       "    </tr>\n",
       "    <tr>\n",
       "      <th>29</th>\n",
       "      <td>Adelie</td>\n",
       "      <td>Biscoe</td>\n",
       "      <td>10.0</td>\n",
       "      <td>18.9</td>\n",
       "      <td>180.0</td>\n",
       "      <td>3950.0</td>\n",
       "      <td>MALE</td>\n",
       "    </tr>\n",
       "  </tbody>\n",
       "</table>\n",
       "</div>"
      ]
     },
     "execution_count": 39,
     "metadata": {},
     "output_type": "execute_result"
    }
   ],
   "execution_count": 39
  },
  {
   "cell_type": "markdown",
   "source": [
    "Matplotlib"
   ],
   "metadata": {
    "id": "YeSGsAFpGsc3"
   }
  },
  {
   "cell_type": "code",
   "source": [
    "#import\n",
    "import matplotlib.pyplot as plt\n",
    "\n",
    "# define data\n",
    "x = [1, 2, 3, 4, 5]\n",
    "y = [2, 4, 6, 8, 10]\n",
    "\n",
    "# plot data\n",
    "#plt.plot(x, y)\n",
    "\n",
    "# add labels and title.\n",
    "plt.xlabel('x-axis in mm')\n",
    "plt.ylabel('y-axis in mm')\n",
    "plt.title('Sample linear plot')\n",
    "\n",
    "#change marker\n",
    "plt.plot(x, y, marker='o', color='r')\n",
    "\n",
    "# show plot\n",
    "plt.show()\n"
   ],
   "metadata": {
    "colab": {
     "base_uri": "https://localhost:8080/",
     "height": 472
    },
    "id": "RMCcRUOkFXjQ",
    "outputId": "3a5d04c1-f43b-4fc1-cd9b-d9b49c974f30",
    "ExecuteTime": {
     "end_time": "2025-03-13T08:14:05.893097Z",
     "start_time": "2025-03-13T08:14:04.135698Z"
    }
   },
   "outputs": [
    {
     "data": {
      "text/plain": [
       "<Figure size 640x480 with 1 Axes>"
      ],
      "image/png": "[encoded data removed]"
     },
     "metadata": {},
     "output_type": "display_data"
    }
   ],
   "execution_count": 40
  },
  {
   "cell_type": "code",
   "source": [
    "import matplotlib.pyplot as plt\n",
    "import numpy as np\n",
    "\n",
    "x = np.array([\"A\", \"B\", \"C\", \"D\"])\n",
    "y = np.array([3, 8, 1, 10])\n",
    "\n",
    "plt.bar(x, y)\n",
    "plt.show()"
   ],
   "metadata": {
    "colab": {
     "base_uri": "https://localhost:8080/",
     "height": 430
    },
    "id": "ruDETGi7G_UF",
    "outputId": "b7d0c61c-1cc8-4cae-fe3f-426b048f0323",
    "ExecuteTime": {
     "end_time": "2025-03-13T08:14:06.121311Z",
     "start_time": "2025-03-13T08:14:05.960124Z"
    }
   },
   "outputs": [
    {
     "data": {
      "text/plain": [
       "<Figure size 640x480 with 1 Axes>"
      ],
      "image/png": "[encoded data removed]"
     },
     "metadata": {},
     "output_type": "display_data"
    }
   ],
   "execution_count": 41
  },
  {
   "cell_type": "code",
   "source": "penguin_df['bill_depth_mm'].plot(kind='hist', edgecolor=\"black\", xlabel='Bill Lenght (mm)')",
   "metadata": {
    "colab": {
     "base_uri": "https://localhost:8080/",
     "height": 467
    },
    "id": "2dc-o9LgInSO",
    "outputId": "4e0235b9-1706-4101-e996-c3a293eab803",
    "ExecuteTime": {
     "end_time": "2025-03-13T08:14:06.581330Z",
     "start_time": "2025-03-13T08:14:06.204903Z"
    }
   },
   "outputs": [
    {
     "data": {
      "text/plain": [
       "<Axes: xlabel='Bill Lenght (mm)', ylabel='Frequency'>"
      ]
     },
     "execution_count": 42,
     "metadata": {},
     "output_type": "execute_result"
    },
    {
     "data": {
      "text/plain": [
       "<Figure size 640x480 with 1 Axes>"
      ],
      "image/png": "[encoded data removed]"
     },
     "metadata": {},
     "output_type": "display_data"
    }
   ],
   "execution_count": 42
  },
  {
   "cell_type": "code",
   "source": [],
   "metadata": {
    "id": "J5pd1nh5JnAo",
    "ExecuteTime": {
     "end_time": "2025-03-13T08:14:06.640372Z",
     "start_time": "2025-03-13T08:14:06.633772Z"
    }
   },
   "outputs": [],
   "execution_count": null
  }
 ]
}
